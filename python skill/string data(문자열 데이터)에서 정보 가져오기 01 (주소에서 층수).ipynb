{
 "cells": [
  {
   "cell_type": "code",
   "execution_count": 10,
   "metadata": {},
   "outputs": [],
   "source": [
    "addr = ['서울시 동대문구 이문동 좋아오피스텔 24층 2431호',\n",
    "        '서울시 양천구 신월동 장미빌라 3층 302호',\n",
    "        '서울시 광진구 광장1동 수목아파트 505동 5층 201호',\n",
    "        '경기도 남양주시 다산동 무궁화빌라 가동 201호',\n",
    "        '경기도 구리시 인창동 민들레다움 401동 13층 1302호',\n",
    "        '서울시 종로구 인사동 인사마을빌라 A6층 201호',\n",
    "        '경기도 수원시 팔달구 인계동 착한마을아파트 103동 12층 1205호',\n",
    "        '서울시 강남구 신사동 단발신사3차 아파트 1205동 8층 810호',\n",
    "        '경기도 남양주시 와부읍 덕소리 덕소좋은마을 빌라 다동 2층 202호',\n",
    "        '경기도 구리시 수택동 행복아파트 1302동 1051호']"
   ]
  },
  {
   "cell_type": "markdown",
   "metadata": {},
   "source": [
    "#### 층수의 경우 '3층' 혹은 '13층'이다. 층수의 숫자만을 뽑기 위해선 '층'글자 앞에서 하나 혹은 두개를 가져온다."
   ]
  },
  {
   "cell_type": "code",
   "execution_count": 11,
   "metadata": {},
   "outputs": [
    {
     "data": {
      "text/plain": [
       "'서울시 동대문구 이문동 좋아오피스텔 24층 2431호'"
      ]
     },
     "execution_count": 11,
     "metadata": {},
     "output_type": "execute_result"
    }
   ],
   "source": [
    "addr[0]"
   ]
  },
  {
   "cell_type": "code",
   "execution_count": 12,
   "metadata": {},
   "outputs": [],
   "source": [
    "ex_addr = addr[0]"
   ]
  },
  {
   "cell_type": "markdown",
   "metadata": {},
   "source": [
    "#### 우선 '층'의 위치를 찾는다."
   ]
  },
  {
   "cell_type": "code",
   "execution_count": 13,
   "metadata": {},
   "outputs": [
    {
     "data": {
      "text/plain": [
       "22"
      ]
     },
     "execution_count": 13,
     "metadata": {},
     "output_type": "execute_result"
    }
   ],
   "source": [
    "ex_addr.find('층')"
   ]
  },
  {
   "cell_type": "code",
   "execution_count": 14,
   "metadata": {},
   "outputs": [],
   "source": [
    "fdx = ex_addr.find('층')"
   ]
  },
  {
   "cell_type": "markdown",
   "metadata": {},
   "source": [
    "#### 층수는 '24층'이라서 인덱스 번호를 활용 '층'앞에 두 개 앞 숫자부터 바로 앞 숫자까지"
   ]
  },
  {
   "cell_type": "code",
   "execution_count": 15,
   "metadata": {},
   "outputs": [
    {
     "data": {
      "text/plain": [
       "'24'"
      ]
     },
     "execution_count": 15,
     "metadata": {},
     "output_type": "execute_result"
    }
   ],
   "source": [
    "floor = ex_addr[fdx-2:fdx]\n",
    "floor"
   ]
  }
 ],
 "metadata": {
  "kernelspec": {
   "display_name": "Python 3",
   "language": "python",
   "name": "python3"
  },
  "language_info": {
   "codemirror_mode": {
    "name": "ipython",
    "version": 3
   },
   "file_extension": ".py",
   "mimetype": "text/x-python",
   "name": "python",
   "nbconvert_exporter": "python",
   "pygments_lexer": "ipython3",
   "version": "3.6.5"
  }
 },
 "nbformat": 4,
 "nbformat_minor": 2
}
