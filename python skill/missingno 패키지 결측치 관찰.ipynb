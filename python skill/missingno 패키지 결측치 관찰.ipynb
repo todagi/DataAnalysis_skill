{
 "cells": [
  {
   "cell_type": "markdown",
   "metadata": {},
   "source": [
    "### 패키지 설치하기"
   ]
  },
  {
   "cell_type": "code",
   "execution_count": 1,
   "metadata": {},
   "outputs": [
    {
     "name": "stdout",
     "output_type": "stream",
     "text": [
      "Requirement already satisfied: missingno in c:\\users\\jeong\\anaconda3\\lib\\site-packages (0.4.1)\n",
      "Requirement already satisfied: seaborn in c:\\users\\jeong\\anaconda3\\lib\\site-packages (from missingno) (0.8.1)\n",
      "Requirement already satisfied: scipy in c:\\users\\jeong\\anaconda3\\lib\\site-packages (from missingno) (1.1.0)\n",
      "Requirement already satisfied: matplotlib in c:\\users\\jeong\\anaconda3\\lib\\site-packages (from missingno) (2.2.2)\n",
      "Requirement already satisfied: numpy in c:\\users\\jeong\\anaconda3\\lib\\site-packages (from missingno) (1.14.3)\n",
      "Requirement already satisfied: pandas in c:\\users\\jeong\\anaconda3\\lib\\site-packages (from seaborn->missingno) (0.23.0)\n",
      "Requirement already satisfied: cycler>=0.10 in c:\\users\\jeong\\anaconda3\\lib\\site-packages (from matplotlib->missingno) (0.10.0)\n",
      "Requirement already satisfied: pyparsing!=2.0.4,!=2.1.2,!=2.1.6,>=2.0.1 in c:\\users\\jeong\\anaconda3\\lib\\site-packages (from matplotlib->missingno) (2.2.0)\n",
      "Requirement already satisfied: python-dateutil>=2.1 in c:\\users\\jeong\\anaconda3\\lib\\site-packages (from matplotlib->missingno) (2.7.3)\n",
      "Requirement already satisfied: pytz in c:\\users\\jeong\\anaconda3\\lib\\site-packages (from matplotlib->missingno) (2018.4)\n",
      "Requirement already satisfied: six>=1.10 in c:\\users\\jeong\\anaconda3\\lib\\site-packages (from matplotlib->missingno) (1.11.0)\n",
      "Requirement already satisfied: kiwisolver>=1.0.1 in c:\\users\\jeong\\anaconda3\\lib\\site-packages (from matplotlib->missingno) (1.0.1)\n",
      "Requirement already satisfied: setuptools in c:\\users\\jeong\\anaconda3\\lib\\site-packages (from kiwisolver>=1.0.1->matplotlib->missingno) (39.1.0)\n"
     ]
    },
    {
     "name": "stderr",
     "output_type": "stream",
     "text": [
      "You are using pip version 18.0, however version 18.1 is available.\n",
      "You should consider upgrading via the 'python -m pip install --upgrade pip' command.\n"
     ]
    }
   ],
   "source": [
    "! pip install missingno"
   ]
  },
  {
   "cell_type": "markdown",
   "metadata": {},
   "source": [
    "#### https://github.com/ResidentMario/missingno"
   ]
  },
  {
   "cell_type": "markdown",
   "metadata": {},
   "source": [
    "### 패키지 불러오기"
   ]
  },
  {
   "cell_type": "code",
   "execution_count": 2,
   "metadata": {},
   "outputs": [],
   "source": [
    "import missingno as msno"
   ]
  },
  {
   "cell_type": "code",
   "execution_count": null,
   "metadata": {},
   "outputs": [],
   "source": [
    "# si = student infromation\n",
    "\n",
    "si = {'ID' : [i for i in range(201, 221)],\n",
    "      'Gender' : ['M', 'M', 'F', 'M', 'F', 'M', 'F', 'M', 'M', 'M',\n",
    "                   'F', 'F', 'F', 'F', 'F', 'M', 'F', 'F', 'M', 'M'],\n",
    "      'Class' : ['D', 'E', 'A', 'B', 'B', 'C', 'E', 'C', 'D', 'E',\n",
    "                 'E', 'D', 'C', 'B', 'A', 'A', 'C', 'D', 'B', 'A'],     \n",
    "      'Score' : [85, 78, 84, 79, 80, 99, 86, 91, 83, 87,\n",
    "                 93, 75, 77, 94, 72, 74, 65, 95, 100, 76],\n",
    "      'Country' : ['Japan', 'USA', 'China', 'China', 'USA', 'Japan', 'USA', 'USA', 'Korea', 'Korea',\n",
    "                   'Korea', 'China', 'English', 'Korea', 'Korea', 'Korea', 'Japan', 'USA', 'Korea', 'Japan'],\n",
    "      'City_Id' : [15, 12, 8, 17, 19, 16, 20, 20, 13, 14, 10, 8, 9, 14, 11, 12, 10, 11, 10, 15]\n",
    "      }\n",
    "\n",
    "# si = DataFrame(si)"
   ]
  },
  {
   "cell_type": "code",
   "execution_count": 15,
   "metadata": {},
   "outputs": [],
   "source": [
    "import pandas as pd \n",
    "import numpy as np\n",
    "\n",
    "si = {'ID' : [i for i in range(201, 221)],\n",
    "      'Gender' : ['M', 'M', 'F', 'M', 'F', 'M', 'F', 'M', 'M', 'M',\n",
    "                   'F', 'F', 'F', 'F', 'F', 'M', 'F', 'F', 'M', 'M'],\n",
    "      'Class' : ['D', 'E', 'A', 'B', 'B', 'C', 'E', 'C', 'D', 'E',\n",
    "                 'E', 'D', 'C', 'B', 'A', 'A', 'C', 'D', 'B', 'A'],    \n",
    "      'Score' : [85, 78, 84, 79, np.nan, 99, 86, 91, 83, 87,\n",
    "                 93, 75, 77, 94, 72, 74, 65, np.nan, 100, 76],\n",
    "      'Country' : ['Japan', 'USA', 'China', 'China', 'USA', 'Japan', 'USA', 'USA', 'Korea', 'Korea',\n",
    "                   'Korea', 'China', 'English', 'Korea', 'Korea', 'Korea', 'Japan', 'USA', 'Korea', 'Japan'],\n",
    "      'City_Id' : [15, 12, 8, 17, 19, 16, 20, 20, 13, 14, 10, 8, 9, 14, 11, 12, 10, 11, 10, 15]\n",
    "      }\n",
    "\n",
    "si = pd.DataFrame(si)"
   ]
  },
  {
   "cell_type": "code",
   "execution_count": 16,
   "metadata": {},
   "outputs": [
    {
     "data": {
      "text/html": [
       "<div>\n",
       "<style scoped>\n",
       "    .dataframe tbody tr th:only-of-type {\n",
       "        vertical-align: middle;\n",
       "    }\n",
       "\n",
       "    .dataframe tbody tr th {\n",
       "        vertical-align: top;\n",
       "    }\n",
       "\n",
       "    .dataframe thead th {\n",
       "        text-align: right;\n",
       "    }\n",
       "</style>\n",
       "<table border=\"1\" class=\"dataframe\">\n",
       "  <thead>\n",
       "    <tr style=\"text-align: right;\">\n",
       "      <th></th>\n",
       "      <th>ID</th>\n",
       "      <th>Gender</th>\n",
       "      <th>Class</th>\n",
       "      <th>Score</th>\n",
       "      <th>Country</th>\n",
       "      <th>City_Id</th>\n",
       "    </tr>\n",
       "  </thead>\n",
       "  <tbody>\n",
       "    <tr>\n",
       "      <th>0</th>\n",
       "      <td>201</td>\n",
       "      <td>M</td>\n",
       "      <td>D</td>\n",
       "      <td>85.0</td>\n",
       "      <td>Japan</td>\n",
       "      <td>15</td>\n",
       "    </tr>\n",
       "    <tr>\n",
       "      <th>1</th>\n",
       "      <td>202</td>\n",
       "      <td>M</td>\n",
       "      <td>E</td>\n",
       "      <td>78.0</td>\n",
       "      <td>USA</td>\n",
       "      <td>12</td>\n",
       "    </tr>\n",
       "    <tr>\n",
       "      <th>2</th>\n",
       "      <td>203</td>\n",
       "      <td>F</td>\n",
       "      <td>A</td>\n",
       "      <td>84.0</td>\n",
       "      <td>China</td>\n",
       "      <td>8</td>\n",
       "    </tr>\n",
       "    <tr>\n",
       "      <th>3</th>\n",
       "      <td>204</td>\n",
       "      <td>M</td>\n",
       "      <td>B</td>\n",
       "      <td>79.0</td>\n",
       "      <td>China</td>\n",
       "      <td>17</td>\n",
       "    </tr>\n",
       "    <tr>\n",
       "      <th>4</th>\n",
       "      <td>205</td>\n",
       "      <td>F</td>\n",
       "      <td>B</td>\n",
       "      <td>NaN</td>\n",
       "      <td>USA</td>\n",
       "      <td>19</td>\n",
       "    </tr>\n",
       "  </tbody>\n",
       "</table>\n",
       "</div>"
      ],
      "text/plain": [
       "    ID Gender Class  Score Country  City_Id\n",
       "0  201      M     D   85.0   Japan       15\n",
       "1  202      M     E   78.0     USA       12\n",
       "2  203      F     A   84.0   China        8\n",
       "3  204      M     B   79.0   China       17\n",
       "4  205      F     B    NaN     USA       19"
      ]
     },
     "execution_count": 16,
     "metadata": {},
     "output_type": "execute_result"
    }
   ],
   "source": [
    "si.head()"
   ]
  },
  {
   "cell_type": "markdown",
   "metadata": {},
   "source": [
    "### missingno를 활용하여 결측치 관찰"
   ]
  },
  {
   "cell_type": "markdown",
   "metadata": {},
   "source": [
    "#### 1. Matrix"
   ]
  },
  {
   "cell_type": "code",
   "execution_count": 17,
   "metadata": {},
   "outputs": [
    {
     "data": {
      "text/plain": [
       "<matplotlib.axes._subplots.AxesSubplot at 0x156cb0e1208>"
      ]
     },
     "execution_count": 17,
     "metadata": {},
     "output_type": "execute_result"
    },
    {
     "data": {
      "image/png": "[encoded data removed]",
      "text/plain": [
       "<Figure size 1080x720 with 2 Axes>"
      ]
     },
     "metadata": {},
     "output_type": "display_data"
    }
   ],
   "source": [
    "msno.matrix(df = si, figsize = (15, 10), color = (0.5, 1, 0.5))"
   ]
  },
  {
   "cell_type": "markdown",
   "metadata": {},
   "source": [
    "#### score에 결측치가 있는 것을 그림으로 확인할 수 있다."
   ]
  },
  {
   "cell_type": "markdown",
   "metadata": {},
   "source": [
    "#### 2. Bar"
   ]
  },
  {
   "cell_type": "code",
   "execution_count": 18,
   "metadata": {},
   "outputs": [
    {
     "data": {
      "text/plain": [
       "<matplotlib.axes._subplots.AxesSubplot at 0x156cc3dae10>"
      ]
     },
     "execution_count": 18,
     "metadata": {},
     "output_type": "execute_result"
    },
    {
     "data": {
      "image/png": "[encoded data removed]",
      "text/plain": [
       "<Figure size 1728x720 with 3 Axes>"
      ]
     },
     "metadata": {},
     "output_type": "display_data"
    }
   ],
   "source": [
    "msno.bar(si)"
   ]
  }
 ],
 "metadata": {
  "kernelspec": {
   "display_name": "Python 3",
   "language": "python",
   "name": "python3"
  },
  "language_info": {
   "codemirror_mode": {
    "name": "ipython",
    "version": 3
   },
   "file_extension": ".py",
   "mimetype": "text/x-python",
   "name": "python",
   "nbconvert_exporter": "python",
   "pygments_lexer": "ipython3",
   "version": "3.6.5"
  }
 },
 "nbformat": 4,
 "nbformat_minor": 2
}
