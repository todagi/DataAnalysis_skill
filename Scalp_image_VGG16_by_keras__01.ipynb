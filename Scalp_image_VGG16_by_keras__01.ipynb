{
  "nbformat": 4,
  "nbformat_minor": 0,
  "metadata": {
    "colab": {
      "name": "Scalp_image_VGG16_by_keras_#01.ipynb",
      "provenance": [],
      "collapsed_sections": [],
      "toc_visible": true,
      "authorship_tag": "ABX9TyOCGOqWdt89ytuhAtzZ0AKE",
      "include_colab_link": true
    },
    "kernelspec": {
      "name": "python3",
      "display_name": "Python 3"
    }
  },
  "cells": [
    {
      "cell_type": "markdown",
      "metadata": {
        "id": "view-in-github",
        "colab_type": "text"
      },
      "source": [
        "<a href=\"https://colab.research.google.com/github/todagi/DataAnalysis_skill/blob/master/Scalp_image_VGG16_by_keras__01.ipynb\" target=\"_parent\"><img src=\"https://colab.research.google.com/assets/colab-badge.svg\" alt=\"Open In Colab\"/></a>"
      ]
    },
    {
      "cell_type": "markdown",
      "metadata": {
        "id": "RFuaVxsQpanQ"
      },
      "source": [
        "# **VGG16(keras)을 통한 두피이미지 분석**\r\n",
        "\r\n",
        "\r\n"
      ]
    },
    {
      "cell_type": "markdown",
      "metadata": {
        "id": "Tsdq7Mw5p1KT"
      },
      "source": [
        "##   "
      ]
    },
    {
      "cell_type": "markdown",
      "metadata": {
        "id": "JHheN10Sp4gr"
      },
      "source": [
        "## **00 관련 패키지 불러오기 및 데이터 준비**"
      ]
    },
    {
      "cell_type": "markdown",
      "metadata": {
        "id": "Og3vam5or_YP"
      },
      "source": [
        "#### **패키지 불러오기**"
      ]
    },
    {
      "cell_type": "code",
      "metadata": {
        "id": "cH9Q2SBmZ7gT"
      },
      "source": [
        "# 구글 드라이브\r\n",
        "from google.colab import drive\r\n",
        "\r\n",
        "# VGG16 분석\r\n",
        "from keras.applications import VGG16\r\n",
        "from keras.preprocessing.image import ImageDataGenerator\r\n",
        "from keras import models\r\n",
        "from keras import layers\r\n",
        "from keras import optimizers\r\n",
        "import numpy as np\r\n",
        "\r\n",
        "# 시각화\r\n",
        "import matplotlib.pyplot as plt"
      ],
      "execution_count": 13,
      "outputs": []
    },
    {
      "cell_type": "markdown",
      "metadata": {
        "id": "1H5mswONqhWt"
      },
      "source": [
        "##    \r\n",
        "#### 구글 드라이브 연동\r\n",
        "데이터가 들어있는 본인의 구글 드라이브와 연동한다 "
      ]
    },
    {
      "cell_type": "code",
      "metadata": {
        "colab": {
          "base_uri": "https://localhost:8080/"
        },
        "id": "iUgE6-j2RKhL",
        "outputId": "fd60413e-4b50-4701-87ab-d73cbbabe168"
      },
      "source": [
        "drive.mount('/content/drive')"
      ],
      "execution_count": 1,
      "outputs": [
        {
          "output_type": "stream",
          "text": [
            "Mounted at /content/drive\n"
          ],
          "name": "stdout"
        }
      ]
    },
    {
      "cell_type": "markdown",
      "metadata": {
        "id": "eaxRv8B9sQbR"
      },
      "source": [
        "#### **데이터 폴더 경로 지정**"
      ]
    },
    {
      "cell_type": "markdown",
      "metadata": {
        "id": "88pvUQrXqtb9"
      },
      "source": [
        "datasets - scalp_small - train/test/validation - scalp_abnormal/scalp_normal\r\n",
        "\r\n",
        "본인 구글 드라이브 폴더에 datasets 폴더를 만들고 준비된 scalp_small 데이터 폴더를 넣는다. \r\n",
        "\r\n",
        "scalp_small 폴더엔 train, test, validation 폴더가 있고, 각 폴더에는 두피 비정상인 scalp_abnormal과 두피 정상인 scalp_normal이 있다."
      ]
    },
    {
      "cell_type": "code",
      "metadata": {
        "id": "dtUzEIuqRdeD"
      },
      "source": [
        "# 연동될 폴더 경로를 base_dir로 지정해준다.\r\n",
        "\r\n",
        "base_dir = './drive/MyDrive/datasets/scalp_small/' \r\n"
      ],
      "execution_count": 94,
      "outputs": []
    },
    {
      "cell_type": "markdown",
      "metadata": {
        "id": "80L0p_nar1Yk"
      },
      "source": [
        "##  "
      ]
    },
    {
      "cell_type": "markdown",
      "metadata": {
        "id": "qhqgiIJ3r3pu"
      },
      "source": [
        "## **01 VGG16 모델 적용 및 학습**"
      ]
    },
    {
      "cell_type": "markdown",
      "metadata": {
        "id": "DkjxKqQfr7jl"
      },
      "source": [
        "#### **VGG16 모델 불러오기**\r\n",
        "Keras 패키지에서 제공하는 VGG16 모델을 불러온다(keras.applications)\r\n",
        "\r\n",
        "사전 훈련된 네트워크를 사용해 새로운 분석할 데이터를 통하시키고 그 출력으로 새로운 분류기를 훈련한다."
      ]
    },
    {
      "cell_type": "code",
      "metadata": {
        "id": "YrikxVuPskK_"
      },
      "source": [
        "# https://keras.io/api/applications/vgg/#vgg16-function\r\n",
        "\r\n",
        "tf.keras.applications.VGG16(\r\n",
        "    include_top=True,\r\n",
        "    weights=\"imagenet\",\r\n",
        "    input_tensor=None,\r\n",
        "    input_shape=None,\r\n",
        "    pooling=None,\r\n",
        "    classes=1000,\r\n",
        "    classifier_activation=\"softmax\",\r\n",
        ")\r\n"
      ],
      "execution_count": null,
      "outputs": []
    },
    {
      "cell_type": "code",
      "metadata": {
        "id": "wdTeKuZ8SIM_"
      },
      "source": [
        "from keras.applications import VGG16\r\n",
        "\r\n",
        "conv_base = VGG16(weights = 'imagenet',\r\n",
        "                  include_top = False, \r\n",
        "                  input_shape = (150, 150, 3))"
      ],
      "execution_count": 73,
      "outputs": []
    },
    {
      "cell_type": "markdown",
      "metadata": {
        "id": "6-aYRnewtavO"
      },
      "source": [
        "\r\n",
        "\r\n",
        "*   weight는 모델을 초기화할 가중치 체크포인트 지정\r\n",
        "*   include_top은 네트워크의 최상위 완전 연결 분류기를 포함할지 안할음를 지정하는데 기본값은 ImageNet의 1,000개의 클래스에 대응되는 완전 연결 분류기를 포함. 그러나 여기에선 별도(두피이미지 정상과 비정상)의 완전 연결 층을 추가하기 위해 False 옵션을 준다.\r\n",
        "\r\n",
        "\r\n",
        "\r\n",
        "\r\n",
        "\r\n",
        "\r\n",
        "*   input_shape은 네트워크에 주힙할 이미지 텐서의 크기(선택사항). 지정하지 않으면 네트워크가 어떤 크기의 입력도 처리할 수 있음\r\n",
        "\r\n",
        "\r\n",
        "\r\n",
        "\r\n",
        "\r\n",
        "\r\n",
        "\r\n"
      ]
    },
    {
      "cell_type": "code",
      "metadata": {
        "colab": {
          "base_uri": "https://localhost:8080/"
        },
        "id": "6uDCz7_eSQNV",
        "outputId": "e6535715-d83f-43fc-9940-f0fd2d721d34"
      },
      "source": [
        "conv_base.summary()"
      ],
      "execution_count": 74,
      "outputs": [
        {
          "output_type": "stream",
          "text": [
            "Model: \"vgg16\"\n",
            "_________________________________________________________________\n",
            "Layer (type)                 Output Shape              Param #   \n",
            "=================================================================\n",
            "input_3 (InputLayer)         [(None, 150, 150, 3)]     0         \n",
            "_________________________________________________________________\n",
            "block1_conv1 (Conv2D)        (None, 150, 150, 64)      1792      \n",
            "_________________________________________________________________\n",
            "block1_conv2 (Conv2D)        (None, 150, 150, 64)      36928     \n",
            "_________________________________________________________________\n",
            "block1_pool (MaxPooling2D)   (None, 75, 75, 64)        0         \n",
            "_________________________________________________________________\n",
            "block2_conv1 (Conv2D)        (None, 75, 75, 128)       73856     \n",
            "_________________________________________________________________\n",
            "block2_conv2 (Conv2D)        (None, 75, 75, 128)       147584    \n",
            "_________________________________________________________________\n",
            "block2_pool (MaxPooling2D)   (None, 37, 37, 128)       0         \n",
            "_________________________________________________________________\n",
            "block3_conv1 (Conv2D)        (None, 37, 37, 256)       295168    \n",
            "_________________________________________________________________\n",
            "block3_conv2 (Conv2D)        (None, 37, 37, 256)       590080    \n",
            "_________________________________________________________________\n",
            "block3_conv3 (Conv2D)        (None, 37, 37, 256)       590080    \n",
            "_________________________________________________________________\n",
            "block3_pool (MaxPooling2D)   (None, 18, 18, 256)       0         \n",
            "_________________________________________________________________\n",
            "block4_conv1 (Conv2D)        (None, 18, 18, 512)       1180160   \n",
            "_________________________________________________________________\n",
            "block4_conv2 (Conv2D)        (None, 18, 18, 512)       2359808   \n",
            "_________________________________________________________________\n",
            "block4_conv3 (Conv2D)        (None, 18, 18, 512)       2359808   \n",
            "_________________________________________________________________\n",
            "block4_pool (MaxPooling2D)   (None, 9, 9, 512)         0         \n",
            "_________________________________________________________________\n",
            "block5_conv1 (Conv2D)        (None, 9, 9, 512)         2359808   \n",
            "_________________________________________________________________\n",
            "block5_conv2 (Conv2D)        (None, 9, 9, 512)         2359808   \n",
            "_________________________________________________________________\n",
            "block5_conv3 (Conv2D)        (None, 9, 9, 512)         2359808   \n",
            "_________________________________________________________________\n",
            "block5_pool (MaxPooling2D)   (None, 4, 4, 512)         0         \n",
            "=================================================================\n",
            "Total params: 14,714,688\n",
            "Trainable params: 14,714,688\n",
            "Non-trainable params: 0\n",
            "_________________________________________________________________\n"
          ],
          "name": "stdout"
        }
      ]
    },
    {
      "cell_type": "markdown",
      "metadata": {
        "id": "jvz9nPe_swKe"
      },
      "source": [
        "#### **이미지로부터 특징을 효과적으로 추출하기(feature extraction)**\r\n",
        "\r\n",
        "\r\n",
        "\r\n",
        "*   https://blog.naver.com/PostView.nhn?blogId=syg7949&logNo=221883713196&categoryNo=27&parentCategoryNo=27&from=thumbnailList 참고\r\n",
        "\r\n",
        "\r\n"
      ]
    },
    {
      "cell_type": "markdown",
      "metadata": {
        "id": "GsNTGEfrvuN4"
      },
      "source": [
        "두피 이미지 데이터가 있는 디렉토리 경로 지정"
      ]
    },
    {
      "cell_type": "code",
      "metadata": {
        "id": "S0j39a2xv4gS"
      },
      "source": [
        "train_dir = base_dir + 'train'\r\n",
        "validation_dir   = base_dir + 'validation'\r\n",
        "test_dir  = base_dir + 'test' "
      ],
      "execution_count": 95,
      "outputs": []
    },
    {
      "cell_type": "markdown",
      "metadata": {
        "id": "zzMSz7lJwGCe"
      },
      "source": [
        "이미지 특징 추출"
      ]
    },
    {
      "cell_type": "code",
      "metadata": {
        "colab": {
          "base_uri": "https://localhost:8080/"
        },
        "id": "D4VNqXvrST-W",
        "outputId": "b8a34e13-2de2-42c3-d8d0-d3c70a7f546d"
      },
      "source": [
        "datagen = ImageDataGenerator(rescale = 1./255)  # 이미지 스케일 조정 \r\n",
        "batch_size = 20\r\n",
        "\r\n",
        "def extract_features(directory, sample_count):\r\n",
        "\r\n",
        "    # features / labels\r\n",
        "    features = np.zeros(shape = (sample_count, 4, 4, 512))\r\n",
        "    labels = np.zeros(shape = (sample_count))\r\n",
        "\r\n",
        "    # 폴더별로 각 이미지에 자동 라벨링(abnormal/normal)\r\n",
        "    generator = datagen.flow_from_directory(\r\n",
        "        directory,\r\n",
        "        target_size = (150, 150),\r\n",
        "        batch_size = batch_size,\r\n",
        "        class_mode = 'binary')\r\n",
        "    \r\n",
        "    # 특징 추출\r\n",
        "    i = 0\r\n",
        "    for inputs_batch, labels_batch in generator:\r\n",
        "        features_batch = conv_base.predict(inputs_batch)\r\n",
        "        features[i * batch_size : (i + 1) * batch_size] = features_batch\r\n",
        "        labels[i * batch_size : (i + 1) * batch_size] = labels_batch\r\n",
        "        i += 1\r\n",
        "        if i * batch_size >= sample_count:\r\n",
        "            # 제너레이터는 루프 안에서 무한하게 데이터를 만들어내므로 모든 이미지를 한 번씩 처리하고 나면 중지합니다.\r\n",
        "            break\r\n",
        "        \r\n",
        "    return features, labels\r\n",
        "\r\n",
        "# 특징 추출 함수를 train, validation, test 폴더에 있는 이미지 데이터에 적용한다\r\n",
        "\r\n",
        "train_features, train_labels = extract_features(train_dir, 300)\r\n",
        "validation_features, validation_labels = extract_features(validation_dir, 100)\r\n",
        "test_features, test_labels = extract_features(test_dir, 100)"
      ],
      "execution_count": 5,
      "outputs": [
        {
          "output_type": "stream",
          "text": [
            "Found 300 images belonging to 2 classes.\n",
            "Found 100 images belonging to 2 classes.\n",
            "Found 100 images belonging to 2 classes.\n"
          ],
          "name": "stdout"
        }
      ]
    },
    {
      "cell_type": "markdown",
      "metadata": {
        "id": "6_hRhsZ7xcX0"
      },
      "source": [
        "추출된 특성의 크기는 (samples, 4, 4, 512). 완전 연결 분류기에 주입하기 위해 먼저 (samples, 8192)크기로 펼치기"
      ]
    },
    {
      "cell_type": "code",
      "metadata": {
        "id": "shjOYTBjWRnd"
      },
      "source": [
        "train_features = np.reshape(train_features, (300, 4 * 4 * 512))\r\n",
        "validation_features = np.reshape(validation_features, (100, 4 * 4 * 512))\r\n",
        "test_features = np.reshape(test_features, (100, 4 * 4 * 512))"
      ],
      "execution_count": 6,
      "outputs": []
    },
    {
      "cell_type": "markdown",
      "metadata": {
        "id": "LhWOpKT1xhRX"
      },
      "source": [
        "완전 연결 분류기 정의(FCL) 및 훈련"
      ]
    },
    {
      "cell_type": "code",
      "metadata": {
        "colab": {
          "base_uri": "https://localhost:8080/"
        },
        "id": "DpeaU9FxWTfQ",
        "outputId": "adf065aa-1aec-4be9-f85e-91c5704c3c47"
      },
      "source": [
        "model = models.Sequential()\r\n",
        "model.add(layers.Dense(256, activation='relu', input_dim=4 * 4 * 512))\r\n",
        "model.add(layers.Dropout(0.5))\r\n",
        "model.add(layers.Dense(1, activation='sigmoid'))\r\n",
        "\r\n",
        "model.compile(optimizer=optimizers.RMSprop(lr=2e-5),\r\n",
        "              loss='binary_crossentropy',\r\n",
        "              metrics=['acc'])\r\n",
        "\r\n",
        "history = model.fit(train_features, train_labels,\r\n",
        "                    epochs=100,\r\n",
        "                    batch_size=20,\r\n",
        "                    validation_data=(validation_features, validation_labels))"
      ],
      "execution_count": 33,
      "outputs": [
        {
          "output_type": "stream",
          "text": [
            "Epoch 1/100\n",
            "15/15 [==============================] - 1s 25ms/step - loss: 0.7751 - acc: 0.4881 - val_loss: 0.5404 - val_acc: 0.7700\n",
            "Epoch 2/100\n",
            "15/15 [==============================] - 0s 17ms/step - loss: 0.5983 - acc: 0.6883 - val_loss: 0.4886 - val_acc: 0.8300\n",
            "Epoch 3/100\n",
            "15/15 [==============================] - 0s 18ms/step - loss: 0.5225 - acc: 0.7464 - val_loss: 0.4735 - val_acc: 0.8000\n",
            "Epoch 4/100\n",
            "15/15 [==============================] - 0s 17ms/step - loss: 0.5343 - acc: 0.7298 - val_loss: 0.4315 - val_acc: 0.8400\n",
            "Epoch 5/100\n",
            "15/15 [==============================] - 0s 16ms/step - loss: 0.5234 - acc: 0.7445 - val_loss: 0.4114 - val_acc: 0.8400\n",
            "Epoch 6/100\n",
            "15/15 [==============================] - 0s 17ms/step - loss: 0.4287 - acc: 0.7972 - val_loss: 0.4051 - val_acc: 0.8100\n",
            "Epoch 7/100\n",
            "15/15 [==============================] - 0s 17ms/step - loss: 0.4897 - acc: 0.7667 - val_loss: 0.3839 - val_acc: 0.8400\n",
            "Epoch 8/100\n",
            "15/15 [==============================] - 0s 17ms/step - loss: 0.4303 - acc: 0.8040 - val_loss: 0.3802 - val_acc: 0.8300\n",
            "Epoch 9/100\n",
            "15/15 [==============================] - 0s 16ms/step - loss: 0.3985 - acc: 0.8201 - val_loss: 0.3614 - val_acc: 0.8600\n",
            "Epoch 10/100\n",
            "15/15 [==============================] - 0s 17ms/step - loss: 0.3765 - acc: 0.8695 - val_loss: 0.3540 - val_acc: 0.8600\n",
            "Epoch 11/100\n",
            "15/15 [==============================] - 0s 18ms/step - loss: 0.4104 - acc: 0.8058 - val_loss: 0.3469 - val_acc: 0.8800\n",
            "Epoch 12/100\n",
            "15/15 [==============================] - 0s 17ms/step - loss: 0.3896 - acc: 0.8293 - val_loss: 0.3427 - val_acc: 0.8700\n",
            "Epoch 13/100\n",
            "15/15 [==============================] - 0s 17ms/step - loss: 0.3650 - acc: 0.8727 - val_loss: 0.3450 - val_acc: 0.8500\n",
            "Epoch 14/100\n",
            "15/15 [==============================] - 0s 17ms/step - loss: 0.3405 - acc: 0.8705 - val_loss: 0.3291 - val_acc: 0.8900\n",
            "Epoch 15/100\n",
            "15/15 [==============================] - 0s 17ms/step - loss: 0.3254 - acc: 0.8719 - val_loss: 0.3247 - val_acc: 0.9000\n",
            "Epoch 16/100\n",
            "15/15 [==============================] - 0s 17ms/step - loss: 0.2929 - acc: 0.8877 - val_loss: 0.3210 - val_acc: 0.9000\n",
            "Epoch 17/100\n",
            "15/15 [==============================] - 0s 17ms/step - loss: 0.3297 - acc: 0.8716 - val_loss: 0.3208 - val_acc: 0.8900\n",
            "Epoch 18/100\n",
            "15/15 [==============================] - 0s 17ms/step - loss: 0.3403 - acc: 0.8395 - val_loss: 0.3149 - val_acc: 0.9000\n",
            "Epoch 19/100\n",
            "15/15 [==============================] - 0s 18ms/step - loss: 0.2947 - acc: 0.8580 - val_loss: 0.3120 - val_acc: 0.9000\n",
            "Epoch 20/100\n",
            "15/15 [==============================] - 0s 18ms/step - loss: 0.2846 - acc: 0.8847 - val_loss: 0.3180 - val_acc: 0.8800\n",
            "Epoch 21/100\n",
            "15/15 [==============================] - 0s 17ms/step - loss: 0.2940 - acc: 0.8865 - val_loss: 0.3116 - val_acc: 0.8800\n",
            "Epoch 22/100\n",
            "15/15 [==============================] - 0s 17ms/step - loss: 0.2697 - acc: 0.9272 - val_loss: 0.3054 - val_acc: 0.9000\n",
            "Epoch 23/100\n",
            "15/15 [==============================] - 0s 18ms/step - loss: 0.2890 - acc: 0.9000 - val_loss: 0.3056 - val_acc: 0.8900\n",
            "Epoch 24/100\n",
            "15/15 [==============================] - 0s 18ms/step - loss: 0.2554 - acc: 0.8948 - val_loss: 0.2991 - val_acc: 0.9000\n",
            "Epoch 25/100\n",
            "15/15 [==============================] - 0s 17ms/step - loss: 0.2889 - acc: 0.8919 - val_loss: 0.2909 - val_acc: 0.9000\n",
            "Epoch 26/100\n",
            "15/15 [==============================] - 0s 18ms/step - loss: 0.2710 - acc: 0.9143 - val_loss: 0.3009 - val_acc: 0.9000\n",
            "Epoch 27/100\n",
            "15/15 [==============================] - 0s 18ms/step - loss: 0.2391 - acc: 0.9297 - val_loss: 0.2945 - val_acc: 0.9000\n",
            "Epoch 28/100\n",
            "15/15 [==============================] - 0s 18ms/step - loss: 0.2324 - acc: 0.9242 - val_loss: 0.2887 - val_acc: 0.9000\n",
            "Epoch 29/100\n",
            "15/15 [==============================] - 0s 17ms/step - loss: 0.2459 - acc: 0.9024 - val_loss: 0.2891 - val_acc: 0.9100\n",
            "Epoch 30/100\n",
            "15/15 [==============================] - 0s 18ms/step - loss: 0.2199 - acc: 0.9364 - val_loss: 0.2869 - val_acc: 0.9100\n",
            "Epoch 31/100\n",
            "15/15 [==============================] - 0s 17ms/step - loss: 0.2151 - acc: 0.9356 - val_loss: 0.2792 - val_acc: 0.9000\n",
            "Epoch 32/100\n",
            "15/15 [==============================] - 0s 17ms/step - loss: 0.2031 - acc: 0.9458 - val_loss: 0.2782 - val_acc: 0.9000\n",
            "Epoch 33/100\n",
            "15/15 [==============================] - 0s 17ms/step - loss: 0.1967 - acc: 0.9687 - val_loss: 0.2786 - val_acc: 0.9100\n",
            "Epoch 34/100\n",
            "15/15 [==============================] - 0s 18ms/step - loss: 0.1867 - acc: 0.9582 - val_loss: 0.2834 - val_acc: 0.9100\n",
            "Epoch 35/100\n",
            "15/15 [==============================] - 0s 25ms/step - loss: 0.2224 - acc: 0.9386 - val_loss: 0.2735 - val_acc: 0.9100\n",
            "Epoch 36/100\n",
            "15/15 [==============================] - 0s 18ms/step - loss: 0.2153 - acc: 0.9239 - val_loss: 0.2797 - val_acc: 0.9100\n",
            "Epoch 37/100\n",
            "15/15 [==============================] - 0s 17ms/step - loss: 0.1852 - acc: 0.9623 - val_loss: 0.2731 - val_acc: 0.9100\n",
            "Epoch 38/100\n",
            "15/15 [==============================] - 0s 17ms/step - loss: 0.1732 - acc: 0.9521 - val_loss: 0.2814 - val_acc: 0.9100\n",
            "Epoch 39/100\n",
            "15/15 [==============================] - 0s 17ms/step - loss: 0.1735 - acc: 0.9671 - val_loss: 0.2708 - val_acc: 0.9200\n",
            "Epoch 40/100\n",
            "15/15 [==============================] - 0s 18ms/step - loss: 0.1653 - acc: 0.9549 - val_loss: 0.2721 - val_acc: 0.9100\n",
            "Epoch 41/100\n",
            "15/15 [==============================] - 0s 18ms/step - loss: 0.1811 - acc: 0.9478 - val_loss: 0.2662 - val_acc: 0.9000\n",
            "Epoch 42/100\n",
            "15/15 [==============================] - 0s 18ms/step - loss: 0.1663 - acc: 0.9536 - val_loss: 0.2676 - val_acc: 0.9100\n",
            "Epoch 43/100\n",
            "15/15 [==============================] - 0s 17ms/step - loss: 0.1609 - acc: 0.9561 - val_loss: 0.2685 - val_acc: 0.9200\n",
            "Epoch 44/100\n",
            "15/15 [==============================] - 0s 17ms/step - loss: 0.1734 - acc: 0.9436 - val_loss: 0.2706 - val_acc: 0.9300\n",
            "Epoch 45/100\n",
            "15/15 [==============================] - 0s 17ms/step - loss: 0.1529 - acc: 0.9478 - val_loss: 0.2605 - val_acc: 0.9100\n",
            "Epoch 46/100\n",
            "15/15 [==============================] - 0s 17ms/step - loss: 0.1420 - acc: 0.9698 - val_loss: 0.2767 - val_acc: 0.9100\n",
            "Epoch 47/100\n",
            "15/15 [==============================] - 0s 18ms/step - loss: 0.1568 - acc: 0.9751 - val_loss: 0.2768 - val_acc: 0.9100\n",
            "Epoch 48/100\n",
            "15/15 [==============================] - 0s 18ms/step - loss: 0.1692 - acc: 0.9487 - val_loss: 0.2664 - val_acc: 0.9300\n",
            "Epoch 49/100\n",
            "15/15 [==============================] - 0s 18ms/step - loss: 0.1347 - acc: 0.9748 - val_loss: 0.2693 - val_acc: 0.9100\n",
            "Epoch 50/100\n",
            "15/15 [==============================] - 0s 16ms/step - loss: 0.1283 - acc: 0.9740 - val_loss: 0.2588 - val_acc: 0.9300\n",
            "Epoch 51/100\n",
            "15/15 [==============================] - 0s 17ms/step - loss: 0.1402 - acc: 0.9637 - val_loss: 0.2726 - val_acc: 0.9100\n",
            "Epoch 52/100\n",
            "15/15 [==============================] - 0s 17ms/step - loss: 0.1400 - acc: 0.9756 - val_loss: 0.2549 - val_acc: 0.9100\n",
            "Epoch 53/100\n",
            "15/15 [==============================] - 0s 19ms/step - loss: 0.1251 - acc: 0.9827 - val_loss: 0.2581 - val_acc: 0.9400\n",
            "Epoch 54/100\n",
            "15/15 [==============================] - 0s 17ms/step - loss: 0.1160 - acc: 0.9863 - val_loss: 0.2571 - val_acc: 0.9300\n",
            "Epoch 55/100\n",
            "15/15 [==============================] - 0s 18ms/step - loss: 0.1374 - acc: 0.9629 - val_loss: 0.2613 - val_acc: 0.9300\n",
            "Epoch 56/100\n",
            "15/15 [==============================] - 0s 17ms/step - loss: 0.1047 - acc: 0.9750 - val_loss: 0.2583 - val_acc: 0.9400\n",
            "Epoch 57/100\n",
            "15/15 [==============================] - 0s 17ms/step - loss: 0.1082 - acc: 0.9842 - val_loss: 0.2621 - val_acc: 0.9400\n",
            "Epoch 58/100\n",
            "15/15 [==============================] - 0s 17ms/step - loss: 0.1081 - acc: 0.9796 - val_loss: 0.2565 - val_acc: 0.9300\n",
            "Epoch 59/100\n",
            "15/15 [==============================] - 0s 17ms/step - loss: 0.1108 - acc: 0.9853 - val_loss: 0.2536 - val_acc: 0.9300\n",
            "Epoch 60/100\n",
            "15/15 [==============================] - 0s 17ms/step - loss: 0.0975 - acc: 0.9934 - val_loss: 0.2539 - val_acc: 0.9300\n",
            "Epoch 61/100\n",
            "15/15 [==============================] - 0s 17ms/step - loss: 0.0905 - acc: 0.9947 - val_loss: 0.2721 - val_acc: 0.9000\n",
            "Epoch 62/100\n",
            "15/15 [==============================] - 0s 18ms/step - loss: 0.1133 - acc: 0.9851 - val_loss: 0.2517 - val_acc: 0.9300\n",
            "Epoch 63/100\n",
            "15/15 [==============================] - 0s 17ms/step - loss: 0.1189 - acc: 0.9662 - val_loss: 0.2652 - val_acc: 0.9300\n",
            "Epoch 64/100\n",
            "15/15 [==============================] - 0s 18ms/step - loss: 0.0836 - acc: 0.9996 - val_loss: 0.2566 - val_acc: 0.9300\n",
            "Epoch 65/100\n",
            "15/15 [==============================] - 0s 17ms/step - loss: 0.0896 - acc: 0.9878 - val_loss: 0.2566 - val_acc: 0.9300\n",
            "Epoch 66/100\n",
            "15/15 [==============================] - 0s 17ms/step - loss: 0.0843 - acc: 0.9971 - val_loss: 0.2600 - val_acc: 0.9300\n",
            "Epoch 67/100\n",
            "15/15 [==============================] - 0s 17ms/step - loss: 0.0937 - acc: 0.9842 - val_loss: 0.2585 - val_acc: 0.9400\n",
            "Epoch 68/100\n",
            "15/15 [==============================] - 0s 17ms/step - loss: 0.0836 - acc: 0.9928 - val_loss: 0.2593 - val_acc: 0.9300\n",
            "Epoch 69/100\n",
            "15/15 [==============================] - 0s 18ms/step - loss: 0.0749 - acc: 0.9951 - val_loss: 0.2712 - val_acc: 0.9100\n",
            "Epoch 70/100\n",
            "15/15 [==============================] - 0s 17ms/step - loss: 0.0813 - acc: 0.9857 - val_loss: 0.2517 - val_acc: 0.9200\n",
            "Epoch 71/100\n",
            "15/15 [==============================] - 0s 18ms/step - loss: 0.0706 - acc: 0.9957 - val_loss: 0.2672 - val_acc: 0.9300\n",
            "Epoch 72/100\n",
            "15/15 [==============================] - 0s 18ms/step - loss: 0.0734 - acc: 0.9879 - val_loss: 0.2559 - val_acc: 0.9200\n",
            "Epoch 73/100\n",
            "15/15 [==============================] - 0s 17ms/step - loss: 0.0619 - acc: 0.9979 - val_loss: 0.2620 - val_acc: 0.9300\n",
            "Epoch 74/100\n",
            "15/15 [==============================] - 0s 18ms/step - loss: 0.0711 - acc: 0.9996 - val_loss: 0.2579 - val_acc: 0.9200\n",
            "Epoch 75/100\n",
            "15/15 [==============================] - 0s 18ms/step - loss: 0.0562 - acc: 0.9979 - val_loss: 0.2642 - val_acc: 0.9300\n",
            "Epoch 76/100\n",
            "15/15 [==============================] - 0s 18ms/step - loss: 0.0762 - acc: 0.9975 - val_loss: 0.2582 - val_acc: 0.9300\n",
            "Epoch 77/100\n",
            "15/15 [==============================] - 0s 17ms/step - loss: 0.0732 - acc: 0.9868 - val_loss: 0.2525 - val_acc: 0.9300\n",
            "Epoch 78/100\n",
            "15/15 [==============================] - 0s 18ms/step - loss: 0.0485 - acc: 1.0000 - val_loss: 0.2544 - val_acc: 0.9300\n",
            "Epoch 79/100\n",
            "15/15 [==============================] - 0s 17ms/step - loss: 0.0640 - acc: 0.9941 - val_loss: 0.2650 - val_acc: 0.9300\n",
            "Epoch 80/100\n",
            "15/15 [==============================] - 0s 18ms/step - loss: 0.0716 - acc: 0.9937 - val_loss: 0.2577 - val_acc: 0.9300\n",
            "Epoch 81/100\n",
            "15/15 [==============================] - 0s 18ms/step - loss: 0.0564 - acc: 0.9977 - val_loss: 0.2530 - val_acc: 0.9300\n",
            "Epoch 82/100\n",
            "15/15 [==============================] - 0s 19ms/step - loss: 0.0678 - acc: 0.9943 - val_loss: 0.2501 - val_acc: 0.9100\n",
            "Epoch 83/100\n",
            "15/15 [==============================] - 0s 18ms/step - loss: 0.0510 - acc: 0.9951 - val_loss: 0.2617 - val_acc: 0.9300\n",
            "Epoch 84/100\n",
            "15/15 [==============================] - 0s 17ms/step - loss: 0.0500 - acc: 1.0000 - val_loss: 0.2525 - val_acc: 0.9100\n",
            "Epoch 85/100\n",
            "15/15 [==============================] - 0s 17ms/step - loss: 0.0445 - acc: 0.9994 - val_loss: 0.2658 - val_acc: 0.9300\n",
            "Epoch 86/100\n",
            "15/15 [==============================] - 0s 18ms/step - loss: 0.0583 - acc: 0.9920 - val_loss: 0.2601 - val_acc: 0.9200\n",
            "Epoch 87/100\n",
            "15/15 [==============================] - 0s 18ms/step - loss: 0.0538 - acc: 0.9966 - val_loss: 0.2523 - val_acc: 0.9100\n",
            "Epoch 88/100\n",
            "15/15 [==============================] - 0s 18ms/step - loss: 0.0549 - acc: 0.9989 - val_loss: 0.2719 - val_acc: 0.9300\n",
            "Epoch 89/100\n",
            "15/15 [==============================] - 0s 24ms/step - loss: 0.0519 - acc: 0.9994 - val_loss: 0.2787 - val_acc: 0.9100\n",
            "Epoch 90/100\n",
            "15/15 [==============================] - 0s 17ms/step - loss: 0.0464 - acc: 1.0000 - val_loss: 0.2591 - val_acc: 0.9300\n",
            "Epoch 91/100\n",
            "15/15 [==============================] - 0s 19ms/step - loss: 0.0436 - acc: 0.9952 - val_loss: 0.2590 - val_acc: 0.9200\n",
            "Epoch 92/100\n",
            "15/15 [==============================] - 0s 18ms/step - loss: 0.0373 - acc: 0.9994 - val_loss: 0.2667 - val_acc: 0.9300\n",
            "Epoch 93/100\n",
            "15/15 [==============================] - 0s 18ms/step - loss: 0.0447 - acc: 1.0000 - val_loss: 0.2574 - val_acc: 0.9300\n",
            "Epoch 94/100\n",
            "15/15 [==============================] - 0s 18ms/step - loss: 0.0440 - acc: 1.0000 - val_loss: 0.2557 - val_acc: 0.9300\n",
            "Epoch 95/100\n",
            "15/15 [==============================] - 0s 18ms/step - loss: 0.0419 - acc: 1.0000 - val_loss: 0.2557 - val_acc: 0.9300\n",
            "Epoch 96/100\n",
            "15/15 [==============================] - 0s 19ms/step - loss: 0.0393 - acc: 1.0000 - val_loss: 0.2617 - val_acc: 0.9300\n",
            "Epoch 97/100\n",
            "15/15 [==============================] - 0s 17ms/step - loss: 0.0395 - acc: 1.0000 - val_loss: 0.2607 - val_acc: 0.9300\n",
            "Epoch 98/100\n",
            "15/15 [==============================] - 0s 17ms/step - loss: 0.0459 - acc: 1.0000 - val_loss: 0.2591 - val_acc: 0.9300\n",
            "Epoch 99/100\n",
            "15/15 [==============================] - 0s 17ms/step - loss: 0.0310 - acc: 1.0000 - val_loss: 0.2601 - val_acc: 0.9300\n",
            "Epoch 100/100\n",
            "15/15 [==============================] - 0s 18ms/step - loss: 0.0333 - acc: 1.0000 - val_loss: 0.2644 - val_acc: 0.9200\n"
          ],
          "name": "stdout"
        }
      ]
    },
    {
      "cell_type": "markdown",
      "metadata": {
        "id": "eDPaX1_PyAN-"
      },
      "source": [
        "## **02 결과 및 예측**"
      ]
    },
    {
      "cell_type": "markdown",
      "metadata": {
        "id": "pKrWdaAeyM42"
      },
      "source": [
        "#### **정확도 손실 그래프 그리기**"
      ]
    },
    {
      "cell_type": "code",
      "metadata": {
        "colab": {
          "base_uri": "https://localhost:8080/",
          "height": 545
        },
        "id": "g7Q6edj6WuiS",
        "outputId": "d1a10247-3b7b-4104-8729-fffb454a08aa"
      },
      "source": [
        "# epochs 30\r\n",
        "\r\n",
        "acc = history.history['acc']\r\n",
        "val_acc = history.history['val_acc']\r\n",
        "loss = history.history['loss']\r\n",
        "val_loss = history.history['val_loss']\r\n",
        "\r\n",
        "epochs = range(len(acc))\r\n",
        "\r\n",
        "plt.plot(epochs, acc, 'bo', label='Training acc')\r\n",
        "plt.plot(epochs, val_acc, 'b', label='Validation acc')\r\n",
        "plt.title('Epoch 30 Training and validation accuracy')\r\n",
        "plt.legend()\r\n",
        "\r\n",
        "plt.figure()\r\n",
        "\r\n",
        "plt.plot(epochs, loss, 'bo', label='Training loss')\r\n",
        "plt.plot(epochs, val_loss, 'b', label='Validation loss')\r\n",
        "plt.title('Epoch 30 Training and validation loss')\r\n",
        "plt.legend()\r\n",
        "\r\n",
        "plt.show()"
      ],
      "execution_count": 14,
      "outputs": [
        {
          "output_type": "display_data",
          "data": {
            "image/png": "[encoded data removed]",
            "text/plain": [
              "<Figure size 432x288 with 1 Axes>"
            ]
          },
          "metadata": {
            "tags": [],
            "needs_background": "light"
          }
        },
        {
          "output_type": "display_data",
          "data": {
            "image/png": "[encoded data removed]",
            "text/plain": [
              "<Figure size 432x288 with 1 Axes>"
            ]
          },
          "metadata": {
            "tags": [],
            "needs_background": "light"
          }
        }
      ]
    },
    {
      "cell_type": "code",
      "metadata": {
        "colab": {
          "base_uri": "https://localhost:8080/",
          "height": 545
        },
        "id": "dbGl7MRNaDf4",
        "outputId": "69265344-8847-4098-b204-e78b37cd7d38"
      },
      "source": [
        "# epoch 100\r\n",
        "\r\n",
        "acc = history.history['acc']\r\n",
        "val_acc = history.history['val_acc']\r\n",
        "loss = history.history['loss']\r\n",
        "val_loss = history.history['val_loss']\r\n",
        "\r\n",
        "epochs = range(len(acc))\r\n",
        "\r\n",
        "plt.plot(epochs, acc, 'bo', label='Training acc')\r\n",
        "plt.plot(epochs, val_acc, 'b', label='Validation acc')\r\n",
        "plt.title('Epoch 100 Training and validation accuracy')\r\n",
        "plt.legend()\r\n",
        "\r\n",
        "plt.figure()\r\n",
        "\r\n",
        "plt.plot(epochs, loss, 'bo', label='Training loss')\r\n",
        "plt.plot(epochs, val_loss, 'b', label='Validation loss')\r\n",
        "plt.title('Epoch 100 Training and validation loss')\r\n",
        "plt.legend()\r\n",
        "\r\n",
        "plt.show()"
      ],
      "execution_count": 34,
      "outputs": [
        {
          "output_type": "display_data",
          "data": {
            "image/png": "[encoded data removed]",
            "text/plain": [
              "<Figure size 432x288 with 1 Axes>"
            ]
          },
          "metadata": {
            "tags": [],
            "needs_background": "light"
          }
        },
        {
          "output_type": "display_data",
          "data": {
            "image/png": "[encoded data removed]",
            "text/plain": [
              "<Figure size 432x288 with 1 Axes>"
            ]
          },
          "metadata": {
            "tags": [],
            "needs_background": "light"
          }
        }
      ]
    },
    {
      "cell_type": "markdown",
      "metadata": {
        "id": "JmrxscSiyTUS"
      },
      "source": [
        "#### **예측**\r\n",
        "미리 특징을 추출하고 라벨링까지 끝낸 test_features를 predict 함수를 이용해 예측값을 얻는다"
      ]
    },
    {
      "cell_type": "code",
      "metadata": {
        "colab": {
          "base_uri": "https://localhost:8080/"
        },
        "id": "CvKEftUGef6U",
        "outputId": "52e20805-9e1b-46c3-9e70-62405f6114d4"
      },
      "source": [
        "output = model.predict(test_features)\r\n",
        "print('갯수: ', len(output))\r\n",
        "output[0:10]"
      ],
      "execution_count": 77,
      "outputs": [
        {
          "output_type": "stream",
          "text": [
            "갯수:  100\n"
          ],
          "name": "stdout"
        },
        {
          "output_type": "execute_result",
          "data": {
            "text/plain": [
              "array([[0.99028254],\n",
              "       [0.99458355],\n",
              "       [0.99999356],\n",
              "       [0.11243176],\n",
              "       [0.14897987],\n",
              "       [0.8262733 ],\n",
              "       [0.2923102 ],\n",
              "       [0.94177824],\n",
              "       [0.993659  ],\n",
              "       [0.35671818]], dtype=float32)"
            ]
          },
          "metadata": {
            "tags": []
          },
          "execution_count": 77
        }
      ]
    },
    {
      "cell_type": "code",
      "metadata": {
        "colab": {
          "base_uri": "https://localhost:8080/"
        },
        "id": "qb1sxXdge180",
        "outputId": "fc3fda08-6be4-421e-f060-547ebadfa5a4"
      },
      "source": [
        "print('갯수: ', len(test_labels))\r\n",
        "test_labels"
      ],
      "execution_count": 78,
      "outputs": [
        {
          "output_type": "stream",
          "text": [
            "갯수:  100\n"
          ],
          "name": "stdout"
        },
        {
          "output_type": "execute_result",
          "data": {
            "text/plain": [
              "array([1., 1., 1., 0., 0., 0., 0., 0., 1., 0., 1., 0., 0., 1., 1., 0., 0.,\n",
              "       0., 1., 1., 1., 0., 0., 0., 1., 0., 0., 0., 1., 0., 0., 1., 1., 0.,\n",
              "       0., 0., 1., 0., 1., 1., 0., 0., 1., 0., 1., 1., 0., 1., 1., 1., 1.,\n",
              "       0., 1., 0., 1., 0., 0., 1., 1., 1., 1., 0., 1., 1., 0., 0., 0., 1.,\n",
              "       0., 1., 1., 1., 0., 0., 1., 1., 1., 1., 0., 0., 0., 1., 0., 1., 1.,\n",
              "       0., 1., 0., 1., 0., 1., 0., 0., 0., 1., 1., 0., 1., 0., 1.])"
            ]
          },
          "metadata": {
            "tags": []
          },
          "execution_count": 78
        }
      ]
    },
    {
      "cell_type": "markdown",
      "metadata": {
        "id": "v3cI9R3Cy1aj"
      },
      "source": [
        "### 의문 \r\n",
        "\r\n",
        "#### 기본 CNN_keras의 경우 test_generator(test_datagen.flow_from_directory 처리한 값)의 filenames의 구성은 앞에 50장이 abnormal, 뒤에 50장이 normal로 구성되어있다.\r\n",
        "####   \r\n",
        "\r\n",
        "#### 그러나 지금 특성추출에서 뽑은 test 데이터들의 labels를 보면 1과 0이 뒤죽박죽으로 되어 있는 것을 볼 수 있다. 앞서 처리할 때 랜덤으로 섞은 것이 아니라면 제대로 라벨링이 되었는지부터가 의문이 된다.\r\n",
        "####    \r\n",
        "\r\n",
        "#### 일단 여기에선 제대로 라벨링이 된 것으로 판단하고 test 데이터 예측을 진행하도록 해본다.\r\n",
        "\r\n",
        "\r\n",
        "\r\n",
        "---\r\n"
      ]
    },
    {
      "cell_type": "markdown",
      "metadata": {
        "id": "ou76VftM0j3q"
      },
      "source": [
        "####   "
      ]
    },
    {
      "cell_type": "markdown",
      "metadata": {
        "id": "MTg1CErr0lcU"
      },
      "source": [
        "모델로 예측한 output 값에 대하여 기본 모델에서 가정한 것처럼 \r\n",
        "\r\n",
        "이 값들이 기본이 scalp_abnormal 0인 상태에서 scalp_normal 1이 될 확률이라고 가정\r\n",
        "\r\n",
        "그리고 그 기준인 임계값(Threshold) 0.5로 설정하였다."
      ]
    },
    {
      "cell_type": "code",
      "metadata": {
        "colab": {
          "base_uri": "https://localhost:8080/"
        },
        "id": "6jD9jve0lrYO",
        "outputId": "f4e11ef4-8634-45f2-9fe5-701cf8051557"
      },
      "source": [
        "# 임계값을 기준에 따라 0과 1 값으로 나눈다\r\n",
        "\r\n",
        "rls = []\r\n",
        "\r\n",
        "for pic in output:\r\n",
        "    if pic[0] <= 0.5:\r\n",
        "        result = 0\r\n",
        "    else:\r\n",
        "        result = 1\r\n",
        "        \r\n",
        "    rls.append(result)\r\n",
        "        \r\n",
        "len(rls)"
      ],
      "execution_count": 79,
      "outputs": [
        {
          "output_type": "execute_result",
          "data": {
            "text/plain": [
              "100"
            ]
          },
          "metadata": {
            "tags": []
          },
          "execution_count": 79
        }
      ]
    },
    {
      "cell_type": "markdown",
      "metadata": {
        "id": "CE6ITHWX09z5"
      },
      "source": [
        "순서대로 기존에 있던 test_labels 값과 결과값을 임계값 기준으로 나눈 rls 값을 비교해\r\n",
        "100개 중 얼마나 일치하는 지를 알아본다."
      ]
    },
    {
      "cell_type": "code",
      "metadata": {
        "colab": {
          "base_uri": "https://localhost:8080/"
        },
        "id": "-SuCbMqPnWdy",
        "outputId": "f870e9a4-6b63-4b44-90ba-787aaeae4453"
      },
      "source": [
        "acc = 0\r\n",
        "\r\n",
        "for i in range(100):\r\n",
        "  print(i+1,'번째  실제: ', test_labels[i],' 예측: ', rls[i])\r\n",
        "  if test_labels[i] == rls[i]:\r\n",
        "    acc += 1"
      ],
      "execution_count": 81,
      "outputs": [
        {
          "output_type": "stream",
          "text": [
            "1 번째  실제:  1.0  예측:  1\n",
            "2 번째  실제:  1.0  예측:  1\n",
            "3 번째  실제:  1.0  예측:  1\n",
            "4 번째  실제:  0.0  예측:  0\n",
            "5 번째  실제:  0.0  예측:  0\n",
            "6 번째  실제:  0.0  예측:  1\n",
            "7 번째  실제:  0.0  예측:  0\n",
            "8 번째  실제:  0.0  예측:  1\n",
            "9 번째  실제:  1.0  예측:  1\n",
            "10 번째  실제:  0.0  예측:  0\n",
            "11 번째  실제:  1.0  예측:  1\n",
            "12 번째  실제:  0.0  예측:  0\n",
            "13 번째  실제:  0.0  예측:  0\n",
            "14 번째  실제:  1.0  예측:  1\n",
            "15 번째  실제:  1.0  예측:  1\n",
            "16 번째  실제:  0.0  예측:  0\n",
            "17 번째  실제:  0.0  예측:  1\n",
            "18 번째  실제:  0.0  예측:  0\n",
            "19 번째  실제:  1.0  예측:  1\n",
            "20 번째  실제:  1.0  예측:  1\n",
            "21 번째  실제:  1.0  예측:  1\n",
            "22 번째  실제:  0.0  예측:  0\n",
            "23 번째  실제:  0.0  예측:  0\n",
            "24 번째  실제:  0.0  예측:  1\n",
            "25 번째  실제:  1.0  예측:  1\n",
            "26 번째  실제:  0.0  예측:  1\n",
            "27 번째  실제:  0.0  예측:  1\n",
            "28 번째  실제:  0.0  예측:  0\n",
            "29 번째  실제:  1.0  예측:  0\n",
            "30 번째  실제:  0.0  예측:  0\n",
            "31 번째  실제:  0.0  예측:  0\n",
            "32 번째  실제:  1.0  예측:  1\n",
            "33 번째  실제:  1.0  예측:  1\n",
            "34 번째  실제:  0.0  예측:  0\n",
            "35 번째  실제:  0.0  예측:  1\n",
            "36 번째  실제:  0.0  예측:  0\n",
            "37 번째  실제:  1.0  예측:  0\n",
            "38 번째  실제:  0.0  예측:  0\n",
            "39 번째  실제:  1.0  예측:  1\n",
            "40 번째  실제:  1.0  예측:  1\n",
            "41 번째  실제:  0.0  예측:  1\n",
            "42 번째  실제:  0.0  예측:  0\n",
            "43 번째  실제:  1.0  예측:  1\n",
            "44 번째  실제:  0.0  예측:  0\n",
            "45 번째  실제:  1.0  예측:  1\n",
            "46 번째  실제:  1.0  예측:  0\n",
            "47 번째  실제:  0.0  예측:  1\n",
            "48 번째  실제:  1.0  예측:  1\n",
            "49 번째  실제:  1.0  예측:  1\n",
            "50 번째  실제:  1.0  예측:  0\n",
            "51 번째  실제:  1.0  예측:  1\n",
            "52 번째  실제:  0.0  예측:  0\n",
            "53 번째  실제:  1.0  예측:  1\n",
            "54 번째  실제:  0.0  예측:  0\n",
            "55 번째  실제:  1.0  예측:  1\n",
            "56 번째  실제:  0.0  예측:  0\n",
            "57 번째  실제:  0.0  예측:  1\n",
            "58 번째  실제:  1.0  예측:  1\n",
            "59 번째  실제:  1.0  예측:  1\n",
            "60 번째  실제:  1.0  예측:  1\n",
            "61 번째  실제:  1.0  예측:  1\n",
            "62 번째  실제:  0.0  예측:  0\n",
            "63 번째  실제:  1.0  예측:  1\n",
            "64 번째  실제:  1.0  예측:  1\n",
            "65 번째  실제:  0.0  예측:  1\n",
            "66 번째  실제:  0.0  예측:  0\n",
            "67 번째  실제:  0.0  예측:  0\n",
            "68 번째  실제:  1.0  예측:  1\n",
            "69 번째  실제:  0.0  예측:  0\n",
            "70 번째  실제:  1.0  예측:  1\n",
            "71 번째  실제:  1.0  예측:  1\n",
            "72 번째  실제:  1.0  예측:  1\n",
            "73 번째  실제:  0.0  예측:  0\n",
            "74 번째  실제:  0.0  예측:  1\n",
            "75 번째  실제:  1.0  예측:  0\n",
            "76 번째  실제:  1.0  예측:  1\n",
            "77 번째  실제:  1.0  예측:  1\n",
            "78 번째  실제:  1.0  예측:  1\n",
            "79 번째  실제:  0.0  예측:  0\n",
            "80 번째  실제:  0.0  예측:  1\n",
            "81 번째  실제:  0.0  예측:  0\n",
            "82 번째  실제:  1.0  예측:  1\n",
            "83 번째  실제:  0.0  예측:  0\n",
            "84 번째  실제:  1.0  예측:  1\n",
            "85 번째  실제:  1.0  예측:  0\n",
            "86 번째  실제:  0.0  예측:  0\n",
            "87 번째  실제:  1.0  예측:  1\n",
            "88 번째  실제:  0.0  예측:  0\n",
            "89 번째  실제:  1.0  예측:  1\n",
            "90 번째  실제:  0.0  예측:  0\n",
            "91 번째  실제:  1.0  예측:  1\n",
            "92 번째  실제:  0.0  예측:  0\n",
            "93 번째  실제:  0.0  예측:  0\n",
            "94 번째  실제:  0.0  예측:  1\n",
            "95 번째  실제:  1.0  예측:  1\n",
            "96 번째  실제:  1.0  예측:  1\n",
            "97 번째  실제:  0.0  예측:  0\n",
            "98 번째  실제:  1.0  예측:  1\n",
            "99 번째  실제:  0.0  예측:  0\n",
            "100 번째  실제:  1.0  예측:  1\n"
          ],
          "name": "stdout"
        }
      ]
    },
    {
      "cell_type": "markdown",
      "metadata": {
        "id": "rT2o7zlj1Z3A"
      },
      "source": [
        "#### 일치갯수 정확도"
      ]
    },
    {
      "cell_type": "code",
      "metadata": {
        "colab": {
          "base_uri": "https://localhost:8080/"
        },
        "id": "cvB-5R8O1Yf7",
        "outputId": "8f240162-3c8d-4679-e59e-ebf18816aada"
      },
      "source": [
        "print('예측 결과 100개 중 ', acc, '개가 일치합니다. 정확도: ', acc,'%')"
      ],
      "execution_count": 82,
      "outputs": [
        {
          "output_type": "stream",
          "text": [
            "예측 결과 100개 중  80 개가 일치합니다. 정확도:  80 %\n"
          ],
          "name": "stdout"
        }
      ]
    },
    {
      "cell_type": "markdown",
      "metadata": {
        "id": "d5wBAFXkCN-w"
      },
      "source": [
        "#   "
      ]
    },
    {
      "cell_type": "markdown",
      "metadata": {
        "id": "Ne753H7OCg5E"
      },
      "source": [
        "## **03 데이터 증식을 사용한 특징 추출 및 VGG16**\r\n",
        "\r\n",
        "#### VGG 모델 및 모델 계측 구성"
      ]
    },
    {
      "cell_type": "code",
      "metadata": {
        "id": "nBUQGRC-1mSS"
      },
      "source": [
        "conv_base = VGG16(weights='imagenet',\r\n",
        "                  include_top=False,\r\n",
        "                  input_shape=(150, 150, 3))\r\n",
        "\r\n",
        "model = models.Sequential()\r\n",
        "model.add(conv_base)\r\n",
        "model.add(layers.Flatten())\r\n",
        "model.add(layers.Dense(256, activation='relu'))\r\n",
        "model.add(layers.Dense(1, activation='sigmoid'))"
      ],
      "execution_count": 84,
      "outputs": []
    },
    {
      "cell_type": "code",
      "metadata": {
        "colab": {
          "base_uri": "https://localhost:8080/"
        },
        "id": "kA8VXc1JJnk3",
        "outputId": "30f81a7a-e563-43a9-9262-b6117e8a5ba2"
      },
      "source": [
        "model.summary()"
      ],
      "execution_count": 85,
      "outputs": [
        {
          "output_type": "stream",
          "text": [
            "Model: \"sequential_3\"\n",
            "_________________________________________________________________\n",
            "Layer (type)                 Output Shape              Param #   \n",
            "=================================================================\n",
            "vgg16 (Functional)           (None, 4, 4, 512)         14714688  \n",
            "_________________________________________________________________\n",
            "flatten (Flatten)            (None, 8192)              0         \n",
            "_________________________________________________________________\n",
            "dense_6 (Dense)              (None, 256)               2097408   \n",
            "_________________________________________________________________\n",
            "dense_7 (Dense)              (None, 1)                 257       \n",
            "=================================================================\n",
            "Total params: 16,812,353\n",
            "Trainable params: 16,812,353\n",
            "Non-trainable params: 0\n",
            "_________________________________________________________________\n"
          ],
          "name": "stdout"
        }
      ]
    },
    {
      "cell_type": "markdown",
      "metadata": {
        "id": "hVgg0TOTJ_hs"
      },
      "source": [
        "합성곱 기반층에 의해 사전에 학습된 표현이 훈련하는 동안 수정되는 것을 막기 위해 \r\n",
        "\r\n",
        "하나 이상의 층을 동결해 가중치가 업데이트 되지 않도록 막는다"
      ]
    },
    {
      "cell_type": "code",
      "metadata": {
        "colab": {
          "base_uri": "https://localhost:8080/"
        },
        "id": "xp47dv6qJpC1",
        "outputId": "801f3a52-cc76-4351-f691-f48aff000852"
      },
      "source": [
        "print('conv_base를 동결하기 전 훈련되는 가중치의 수:', \r\n",
        "      len(model.trainable_weights))"
      ],
      "execution_count": 86,
      "outputs": [
        {
          "output_type": "stream",
          "text": [
            "conv_base를 동결하기 전 훈련되는 가중치의 수: 30\n"
          ],
          "name": "stdout"
        }
      ]
    },
    {
      "cell_type": "code",
      "metadata": {
        "id": "ax8aYSTTJ6NT"
      },
      "source": [
        "conv_base.trainable = False"
      ],
      "execution_count": 87,
      "outputs": []
    },
    {
      "cell_type": "markdown",
      "metadata": {
        "id": "unRQOUwCKRxR"
      },
      "source": [
        "\r\n",
        "\r\n",
        "  *   2개의 Dense층 가중치만 훈련\r\n",
        "  *  층마다 2개씩(가중치 행렬과 편향 벡터) 총 4개의 텐서가 훈련\r\n",
        "  *  컴파일 단계 후에 trainable 속성을 변경하면 반드시 모델을 다시 컴파일 해야 한다.\r\n",
        "\r\n"
      ]
    },
    {
      "cell_type": "code",
      "metadata": {
        "colab": {
          "base_uri": "https://localhost:8080/"
        },
        "id": "yzkwPP0dJ72A",
        "outputId": "f8d36c3d-4241-481c-e636-e7b044e1d9e1"
      },
      "source": [
        "print('conv_base를 동결한 후 훈련되는 가중치의 수:', \r\n",
        "      len(model.trainable_weights))"
      ],
      "execution_count": 88,
      "outputs": [
        {
          "output_type": "stream",
          "text": [
            "conv_base를 동결한 후 훈련되는 가중치의 수: 4\n"
          ],
          "name": "stdout"
        }
      ]
    },
    {
      "cell_type": "markdown",
      "metadata": {
        "id": "-yu-1XVHKQZQ"
      },
      "source": [
        "데이터 준비는 위에서 조정한 것을 활용한다.\r\n",
        "\r\n",
        "#### **데이터 증식**"
      ]
    },
    {
      "cell_type": "markdown",
      "metadata": {
        "id": "IUWzzf_2K4q9"
      },
      "source": [
        "* rescale: 원래 이미지에 입력된 값만큼 이미지의 크기에 곱해서 조율함.\r\n",
        "\r\n",
        "* rotation_range: 지정된 각도 범위에서 임의로 원본 이미지를 회전.\r\n",
        "\r\n",
        "* width_shift_range: 지정된 수평방향 내에서 임의로 원본 이미지를 좌우로 이동.\r\n",
        "\r\n",
        "* height_shift_range: 지정된 수직방향 내에서 임의로 원본 이미지를 상하로 이동.\r\n",
        "\r\n",
        "* brightness_range: 이미지 밝기를 랜덤하게 주는 것.\r\n",
        "\r\n",
        "* horizontal_flip: 수평방향으로 뒤집기\r\n",
        "\r\n",
        "* validation_split: 주어진 데이터셋을 test와 training으로 나누는 비율.\r\n",
        "\r\n",
        "참고: https://chealin93.tistory.com/69"
      ]
    },
    {
      "cell_type": "code",
      "metadata": {
        "id": "TNXVfjd6J-X6"
      },
      "source": [
        "train_datagen = ImageDataGenerator(\r\n",
        "                                    rescale=1./255,\r\n",
        "                                    rotation_range=20,  \r\n",
        "                                    width_shift_range=0.1,\r\n",
        "                                    height_shift_range=0.1,\r\n",
        "                                    shear_range=0.1,\r\n",
        "                                    zoom_range=0.1,\r\n",
        "                                    horizontal_flip=True,\r\n",
        "                                    fill_mode='nearest')\r\n",
        "\r\n",
        "\r\n",
        "# Validation, Test 데이터 등 검증 데이터는 증식되어선 안됨\r\n",
        "test_datagen = ImageDataGenerator(rescale=1./255)"
      ],
      "execution_count": 89,
      "outputs": []
    },
    {
      "cell_type": "markdown",
      "metadata": {
        "id": "Ya-E6RWBMMZU"
      },
      "source": [
        "#### 데이터 라벨링"
      ]
    },
    {
      "cell_type": "code",
      "metadata": {
        "colab": {
          "base_uri": "https://localhost:8080/"
        },
        "id": "YpxaxalcMIF9",
        "outputId": "a21874ca-b8a2-485a-ef23-ff61b463b5d6"
      },
      "source": [
        "train_generator = train_datagen.flow_from_directory(\r\n",
        "        # 타깃 디렉터리\r\n",
        "        train_dir,\r\n",
        "        # 모든 이미지의 크기를 150 × 150로 변경합니다\r\n",
        "        target_size=(150, 150),\r\n",
        "        batch_size=20,\r\n",
        "        # binary_crossentropy 손실을 사용하므로 이진 레이블이 필요합니다\r\n",
        "        class_mode='binary')\r\n",
        "\r\n",
        "validation_generator = test_datagen.flow_from_directory(\r\n",
        "        validation_dir,\r\n",
        "        target_size=(150, 150),\r\n",
        "        batch_size=20,\r\n",
        "        class_mode='binary')"
      ],
      "execution_count": 97,
      "outputs": [
        {
          "output_type": "stream",
          "text": [
            "Found 300 images belonging to 2 classes.\n",
            "Found 100 images belonging to 2 classes.\n"
          ],
          "name": "stdout"
        }
      ]
    },
    {
      "cell_type": "markdown",
      "metadata": {
        "id": "T6evSYqEM-XF"
      },
      "source": [
        "## **04 학습 및 결과 예측 보기**\r\n",
        "\r\n",
        "#### **모델 컴파일 및 학습**"
      ]
    },
    {
      "cell_type": "code",
      "metadata": {
        "colab": {
          "base_uri": "https://localhost:8080/"
        },
        "id": "CHrPZG14UDxg",
        "outputId": "f1962094-4d62-40cc-99a0-1bf592ef6024"
      },
      "source": [
        "%%time\r\n",
        "model.compile(loss='binary_crossentropy',\r\n",
        "              optimizer=optimizers.RMSprop(lr=2e-5),\r\n",
        "              metrics=['acc'])\r\n",
        "\r\n",
        "history = model.fit(\r\n",
        "      train_generator,\r\n",
        "      steps_per_epoch=15,  # total_train // batch_size(300//20)\r\n",
        "      epochs=30,\r\n",
        "      validation_data=validation_generator,\r\n",
        "      validation_steps=5,  # total_val // batch_size (100//20)\r\n",
        "      verbose=2)"
      ],
      "execution_count": 105,
      "outputs": [
        {
          "output_type": "stream",
          "text": [
            "Found 300 images belonging to 2 classes.\n",
            "Found 100 images belonging to 2 classes.\n",
            "Epoch 1/30\n",
            "15/15 - 51s - loss: 0.4702 - acc: 0.7700 - val_loss: 0.3565 - val_acc: 0.8800\n",
            "Epoch 2/30\n",
            "15/15 - 50s - loss: 0.4322 - acc: 0.8133 - val_loss: 0.3507 - val_acc: 0.8700\n",
            "Epoch 3/30\n",
            "15/15 - 50s - loss: 0.4206 - acc: 0.8033 - val_loss: 0.3333 - val_acc: 0.8900\n",
            "Epoch 4/30\n",
            "15/15 - 50s - loss: 0.4200 - acc: 0.8367 - val_loss: 0.3332 - val_acc: 0.8800\n",
            "Epoch 5/30\n",
            "15/15 - 49s - loss: 0.4024 - acc: 0.8367 - val_loss: 0.3178 - val_acc: 0.8700\n",
            "Epoch 6/30\n",
            "15/15 - 50s - loss: 0.4013 - acc: 0.8233 - val_loss: 0.3098 - val_acc: 0.9000\n",
            "Epoch 7/30\n",
            "15/15 - 50s - loss: 0.3939 - acc: 0.8233 - val_loss: 0.3109 - val_acc: 0.8800\n",
            "Epoch 8/30\n",
            "15/15 - 50s - loss: 0.3757 - acc: 0.8433 - val_loss: 0.3119 - val_acc: 0.8700\n",
            "Epoch 9/30\n",
            "15/15 - 49s - loss: 0.3846 - acc: 0.8333 - val_loss: 0.3069 - val_acc: 0.8800\n",
            "Epoch 10/30\n",
            "15/15 - 49s - loss: 0.3766 - acc: 0.8400 - val_loss: 0.3050 - val_acc: 0.8700\n",
            "Epoch 11/30\n",
            "15/15 - 49s - loss: 0.3662 - acc: 0.8433 - val_loss: 0.2868 - val_acc: 0.8900\n",
            "Epoch 12/30\n",
            "15/15 - 49s - loss: 0.3502 - acc: 0.8700 - val_loss: 0.2814 - val_acc: 0.9000\n",
            "Epoch 13/30\n",
            "15/15 - 50s - loss: 0.3384 - acc: 0.8733 - val_loss: 0.2780 - val_acc: 0.8900\n",
            "Epoch 14/30\n",
            "15/15 - 49s - loss: 0.3667 - acc: 0.8700 - val_loss: 0.2808 - val_acc: 0.8800\n",
            "Epoch 15/30\n",
            "15/15 - 50s - loss: 0.3366 - acc: 0.8833 - val_loss: 0.2823 - val_acc: 0.8800\n",
            "Epoch 16/30\n",
            "15/15 - 50s - loss: 0.3462 - acc: 0.8700 - val_loss: 0.2896 - val_acc: 0.8700\n",
            "Epoch 17/30\n",
            "15/15 - 50s - loss: 0.3356 - acc: 0.8633 - val_loss: 0.3146 - val_acc: 0.8800\n",
            "Epoch 18/30\n",
            "15/15 - 50s - loss: 0.3316 - acc: 0.8500 - val_loss: 0.2679 - val_acc: 0.8800\n",
            "Epoch 19/30\n",
            "15/15 - 50s - loss: 0.3320 - acc: 0.8633 - val_loss: 0.2684 - val_acc: 0.8800\n",
            "Epoch 20/30\n",
            "15/15 - 50s - loss: 0.3406 - acc: 0.8567 - val_loss: 0.2669 - val_acc: 0.8900\n",
            "Epoch 21/30\n",
            "15/15 - 50s - loss: 0.3279 - acc: 0.8933 - val_loss: 0.2650 - val_acc: 0.8800\n",
            "Epoch 22/30\n",
            "15/15 - 50s - loss: 0.3307 - acc: 0.8600 - val_loss: 0.2790 - val_acc: 0.8800\n",
            "Epoch 23/30\n",
            "15/15 - 50s - loss: 0.3201 - acc: 0.8667 - val_loss: 0.2772 - val_acc: 0.8800\n",
            "Epoch 24/30\n",
            "15/15 - 49s - loss: 0.3121 - acc: 0.8833 - val_loss: 0.2757 - val_acc: 0.8900\n",
            "Epoch 25/30\n",
            "15/15 - 50s - loss: 0.3024 - acc: 0.9033 - val_loss: 0.2970 - val_acc: 0.8800\n",
            "Epoch 26/30\n",
            "15/15 - 50s - loss: 0.2937 - acc: 0.9033 - val_loss: 0.2748 - val_acc: 0.8800\n",
            "Epoch 27/30\n",
            "15/15 - 50s - loss: 0.2990 - acc: 0.8933 - val_loss: 0.2682 - val_acc: 0.8900\n",
            "Epoch 28/30\n",
            "15/15 - 50s - loss: 0.2750 - acc: 0.9000 - val_loss: 0.2472 - val_acc: 0.9100\n",
            "Epoch 29/30\n",
            "15/15 - 49s - loss: 0.2950 - acc: 0.8833 - val_loss: 0.2503 - val_acc: 0.9100\n",
            "Epoch 30/30\n",
            "15/15 - 49s - loss: 0.2774 - acc: 0.9100 - val_loss: 0.2535 - val_acc: 0.9000\n"
          ],
          "name": "stdout"
        }
      ]
    },
    {
      "cell_type": "markdown",
      "metadata": {
        "id": "KQFuXWjvTdlA"
      },
      "source": [
        "#### 정확도 손실 그래프 그리기"
      ]
    },
    {
      "cell_type": "code",
      "metadata": {
        "colab": {
          "base_uri": "https://localhost:8080/",
          "height": 545
        },
        "id": "q7HmJC2GNLJ4",
        "outputId": "5e7b82b6-ee27-4db6-a387-eda60381ecdc"
      },
      "source": [
        "# epoch 30\r\n",
        "\r\n",
        "acc = history.history['acc']\r\n",
        "val_acc = history.history['val_acc']\r\n",
        "loss = history.history['loss']\r\n",
        "val_loss = history.history['val_loss']\r\n",
        "\r\n",
        "epochs = range(len(acc))\r\n",
        "\r\n",
        "plt.plot(epochs, acc, 'bo', label='Training acc')\r\n",
        "plt.plot(epochs, val_acc, 'b', label='Validation acc')\r\n",
        "plt.title('Training and validation accuracy')\r\n",
        "plt.legend()\r\n",
        "\r\n",
        "plt.figure()\r\n",
        "\r\n",
        "plt.plot(epochs, loss, 'bo', label='Training loss')\r\n",
        "plt.plot(epochs, val_loss, 'b', label='Validation loss')\r\n",
        "plt.title('Training and validation loss')\r\n",
        "plt.legend()\r\n",
        "\r\n",
        "plt.show()\r\n"
      ],
      "execution_count": 106,
      "outputs": [
        {
          "output_type": "display_data",
          "data": {
            "image/png": "[encoded data removed]",
            "text/plain": [
              "<Figure size 432x288 with 1 Axes>"
            ]
          },
          "metadata": {
            "tags": [],
            "needs_background": "light"
          }
        },
        {
          "output_type": "display_data",
          "data": {
            "image/png": "[encoded data removed]",
            "text/plain": [
              "<Figure size 432x288 with 1 Axes>"
            ]
          },
          "metadata": {
            "tags": [],
            "needs_background": "light"
          }
        }
      ]
    },
    {
      "cell_type": "markdown",
      "metadata": {
        "id": "SHdzGe_SYzwz"
      },
      "source": [
        "#### **평가 및 예측**"
      ]
    },
    {
      "cell_type": "markdown",
      "metadata": {
        "id": "1azG-deAcI8R"
      },
      "source": [
        "테스트 데이터 라벨링"
      ]
    },
    {
      "cell_type": "code",
      "metadata": {
        "colab": {
          "base_uri": "https://localhost:8080/"
        },
        "id": "WefBxipDcMbL",
        "outputId": "68a9630e-d43d-41e0-a262-a0df891d7084"
      },
      "source": [
        "test_generator = test_datagen.flow_from_directory(\r\n",
        "        test_dir,\r\n",
        "        target_size=(150, 150),\r\n",
        "        batch_size=20,\r\n",
        "        class_mode='binary')\r\n"
      ],
      "execution_count": 108,
      "outputs": [
        {
          "output_type": "stream",
          "text": [
            "Found 100 images belonging to 2 classes.\n"
          ],
          "name": "stdout"
        }
      ]
    },
    {
      "cell_type": "markdown",
      "metadata": {
        "id": "rnSlSJm8cPsU"
      },
      "source": [
        "모델평가"
      ]
    },
    {
      "cell_type": "code",
      "metadata": {
        "colab": {
          "base_uri": "https://localhost:8080/"
        },
        "id": "m6d86blbb0Wo",
        "outputId": "dcd169fd-54cd-4060-9474-d2298dc8db69"
      },
      "source": [
        "%%time\r\n",
        "\r\n",
        "test_loss, test_acc = model.evaluate(test_generator, steps=50)\r\n",
        "print('test acc:', test_acc)"
      ],
      "execution_count": 110,
      "outputs": [
        {
          "output_type": "stream",
          "text": [
            " 5/50 [==>...........................] - ETA: 1:48 - loss: 0.3582 - acc: 0.8200WARNING:tensorflow:Your input ran out of data; interrupting training. Make sure that your dataset or generator can generate at least `steps_per_epoch * epochs` batches (in this case, 50 batches). You may need to use the repeat() function when building your dataset.\n",
            "50/50 [==============================] - 12s 196ms/step - loss: 0.3582 - acc: 0.8200\n",
            "test acc: 0.8199999928474426\n",
            "CPU times: user 23.6 s, sys: 116 ms, total: 23.7 s\n",
            "Wall time: 12.3 s\n"
          ],
          "name": "stdout"
        }
      ]
    },
    {
      "cell_type": "markdown",
      "metadata": {
        "id": "9IaJqx0_cqiH"
      },
      "source": [
        " 예측"
      ]
    },
    {
      "cell_type": "code",
      "metadata": {
        "colab": {
          "base_uri": "https://localhost:8080/"
        },
        "id": "HHsYiwlZUDu9",
        "outputId": "58f2afd9-c50f-4213-e745-123a092b4b3d"
      },
      "source": [
        "output = model.predict(test_generator)\r\n",
        "print('갯수: ', len(output))\r\n",
        "output[0:10]"
      ],
      "execution_count": 111,
      "outputs": [
        {
          "output_type": "stream",
          "text": [
            "갯수:  100\n"
          ],
          "name": "stdout"
        },
        {
          "output_type": "execute_result",
          "data": {
            "text/plain": [
              "array([[0.21301913],\n",
              "       [0.95382786],\n",
              "       [0.99826205],\n",
              "       [0.9538845 ],\n",
              "       [0.11844257],\n",
              "       [0.9963921 ],\n",
              "       [0.56402934],\n",
              "       [0.48029462],\n",
              "       [0.14325893],\n",
              "       [0.4125078 ]], dtype=float32)"
            ]
          },
          "metadata": {
            "tags": []
          },
          "execution_count": 111
        }
      ]
    },
    {
      "cell_type": "code",
      "metadata": {
        "colab": {
          "base_uri": "https://localhost:8080/"
        },
        "id": "b6xZ7cJyczdc",
        "outputId": "777028bc-a0a0-4ee0-b6e1-37721f0c934b"
      },
      "source": [
        "test_generator.class_indices"
      ],
      "execution_count": 113,
      "outputs": [
        {
          "output_type": "execute_result",
          "data": {
            "text/plain": [
              "{'scalp_abnormal': 0, 'scalp_normal': 1}"
            ]
          },
          "metadata": {
            "tags": []
          },
          "execution_count": 113
        }
      ]
    },
    {
      "cell_type": "code",
      "metadata": {
        "colab": {
          "base_uri": "https://localhost:8080/"
        },
        "id": "N18n2IZRctKy",
        "outputId": "4bd6741a-3c2c-4a73-e232-00e45ef01eee"
      },
      "source": [
        "test_generator.filenames[45:55]"
      ],
      "execution_count": 112,
      "outputs": [
        {
          "output_type": "execute_result",
          "data": {
            "text/plain": [
              "['scalp_abnormal/scalp_abnormal.245.jpg',\n",
              " 'scalp_abnormal/scalp_abnormal.246.jpg',\n",
              " 'scalp_abnormal/scalp_abnormal.247.jpg',\n",
              " 'scalp_abnormal/scalp_abnormal.248.jpg',\n",
              " 'scalp_abnormal/scalp_abnormal.249.jpg',\n",
              " 'scalp_normal/scalp_normal.200.jpg',\n",
              " 'scalp_normal/scalp_normal.201.jpg',\n",
              " 'scalp_normal/scalp_normal.202.jpg',\n",
              " 'scalp_normal/scalp_normal.203.jpg',\n",
              " 'scalp_normal/scalp_normal.204.jpg']"
            ]
          },
          "metadata": {
            "tags": []
          },
          "execution_count": 112
        }
      ]
    },
    {
      "cell_type": "code",
      "metadata": {
        "colab": {
          "base_uri": "https://localhost:8080/"
        },
        "id": "ikQyAMxActVn",
        "outputId": "2672f77d-1cdb-4ddf-fadf-677f73155435"
      },
      "source": [
        "test_generator.labels"
      ],
      "execution_count": 114,
      "outputs": [
        {
          "output_type": "execute_result",
          "data": {
            "text/plain": [
              "array([0, 0, 0, 0, 0, 0, 0, 0, 0, 0, 0, 0, 0, 0, 0, 0, 0, 0, 0, 0, 0, 0,\n",
              "       0, 0, 0, 0, 0, 0, 0, 0, 0, 0, 0, 0, 0, 0, 0, 0, 0, 0, 0, 0, 0, 0,\n",
              "       0, 0, 0, 0, 0, 0, 1, 1, 1, 1, 1, 1, 1, 1, 1, 1, 1, 1, 1, 1, 1, 1,\n",
              "       1, 1, 1, 1, 1, 1, 1, 1, 1, 1, 1, 1, 1, 1, 1, 1, 1, 1, 1, 1, 1, 1,\n",
              "       1, 1, 1, 1, 1, 1, 1, 1, 1, 1, 1, 1], dtype=int32)"
            ]
          },
          "metadata": {
            "tags": []
          },
          "execution_count": 114
        }
      ]
    },
    {
      "cell_type": "markdown",
      "metadata": {
        "id": "7zUq3bxHc9oI"
      },
      "source": [
        "임계값 설정으로 0(abnoraml), 1(noraml) 판정"
      ]
    },
    {
      "cell_type": "code",
      "metadata": {
        "colab": {
          "base_uri": "https://localhost:8080/"
        },
        "id": "GSaWBTQmYtFx",
        "outputId": "00eb1066-b85e-4bdd-e344-bf66ef7eb103"
      },
      "source": [
        "# 임계값을 기준에 따라 0과 1 값으로 나눈다\r\n",
        "\r\n",
        "rls = []\r\n",
        "\r\n",
        "for pic in output:\r\n",
        "    if pic[0] <= 0.5:\r\n",
        "        result = 0\r\n",
        "    else:\r\n",
        "        result = 1\r\n",
        "        \r\n",
        "    rls.append(result)\r\n",
        "        \r\n",
        "print(len(rls))\r\n",
        "rls[45:55]"
      ],
      "execution_count": 120,
      "outputs": [
        {
          "output_type": "stream",
          "text": [
            "100\n"
          ],
          "name": "stdout"
        },
        {
          "output_type": "execute_result",
          "data": {
            "text/plain": [
              "[0, 0, 1, 1, 1, 0, 1, 0, 1, 1]"
            ]
          },
          "metadata": {
            "tags": []
          },
          "execution_count": 120
        }
      ]
    },
    {
      "cell_type": "code",
      "metadata": {
        "colab": {
          "base_uri": "https://localhost:8080/"
        },
        "id": "m33Kq2P1ed1g",
        "outputId": "57db0c5a-9008-415d-d511-7f67a31e4424"
      },
      "source": [
        "test_generator.labels[45:55]"
      ],
      "execution_count": 127,
      "outputs": [
        {
          "output_type": "execute_result",
          "data": {
            "text/plain": [
              "array([0, 0, 0, 0, 0, 1, 1, 1, 1, 1], dtype=int32)"
            ]
          },
          "metadata": {
            "tags": []
          },
          "execution_count": 127
        }
      ]
    },
    {
      "cell_type": "code",
      "metadata": {
        "colab": {
          "base_uri": "https://localhost:8080/"
        },
        "id": "vy2HTQHwYtQf",
        "outputId": "94ab482c-0819-4026-dc66-bce4df10213b"
      },
      "source": [
        "acc = 0\r\n",
        "\r\n",
        "for i in range(100):\r\n",
        "  print(i+1,'번째  실제: ', test_generator.labels[i],' 예측: ', rls[i])\r\n",
        "  if test_generator.labels[i] == rls[i]:\r\n",
        "    acc += 1\r\n",
        "\r\n",
        "print(\" \")\r\n",
        "print('예측 결과 100개 중 ', acc, '개가 일치합니다. 정확도: ', acc,'%')"
      ],
      "execution_count": 128,
      "outputs": [
        {
          "output_type": "stream",
          "text": [
            "1 번째  실제:  0  예측:  0\n",
            "2 번째  실제:  0  예측:  1\n",
            "3 번째  실제:  0  예측:  1\n",
            "4 번째  실제:  0  예측:  1\n",
            "5 번째  실제:  0  예측:  0\n",
            "6 번째  실제:  0  예측:  1\n",
            "7 번째  실제:  0  예측:  1\n",
            "8 번째  실제:  0  예측:  0\n",
            "9 번째  실제:  0  예측:  0\n",
            "10 번째  실제:  0  예측:  0\n",
            "11 번째  실제:  0  예측:  1\n",
            "12 번째  실제:  0  예측:  1\n",
            "13 번째  실제:  0  예측:  1\n",
            "14 번째  실제:  0  예측:  1\n",
            "15 번째  실제:  0  예측:  0\n",
            "16 번째  실제:  0  예측:  0\n",
            "17 번째  실제:  0  예측:  0\n",
            "18 번째  실제:  0  예측:  0\n",
            "19 번째  실제:  0  예측:  0\n",
            "20 번째  실제:  0  예측:  1\n",
            "21 번째  실제:  0  예측:  1\n",
            "22 번째  실제:  0  예측:  1\n",
            "23 번째  실제:  0  예측:  1\n",
            "24 번째  실제:  0  예측:  0\n",
            "25 번째  실제:  0  예측:  0\n",
            "26 번째  실제:  0  예측:  0\n",
            "27 번째  실제:  0  예측:  1\n",
            "28 번째  실제:  0  예측:  1\n",
            "29 번째  실제:  0  예측:  0\n",
            "30 번째  실제:  0  예측:  0\n",
            "31 번째  실제:  0  예측:  1\n",
            "32 번째  실제:  0  예측:  1\n",
            "33 번째  실제:  0  예측:  0\n",
            "34 번째  실제:  0  예측:  1\n",
            "35 번째  실제:  0  예측:  1\n",
            "36 번째  실제:  0  예측:  1\n",
            "37 번째  실제:  0  예측:  0\n",
            "38 번째  실제:  0  예측:  1\n",
            "39 번째  실제:  0  예측:  0\n",
            "40 번째  실제:  0  예측:  1\n",
            "41 번째  실제:  0  예측:  1\n",
            "42 번째  실제:  0  예측:  1\n",
            "43 번째  실제:  0  예측:  0\n",
            "44 번째  실제:  0  예측:  0\n",
            "45 번째  실제:  0  예측:  0\n",
            "46 번째  실제:  0  예측:  0\n",
            "47 번째  실제:  0  예측:  0\n",
            "48 번째  실제:  0  예측:  1\n",
            "49 번째  실제:  0  예측:  1\n",
            "50 번째  실제:  0  예측:  1\n",
            "51 번째  실제:  1  예측:  0\n",
            "52 번째  실제:  1  예측:  1\n",
            "53 번째  실제:  1  예측:  0\n",
            "54 번째  실제:  1  예측:  1\n",
            "55 번째  실제:  1  예측:  1\n",
            "56 번째  실제:  1  예측:  0\n",
            "57 번째  실제:  1  예측:  1\n",
            "58 번째  실제:  1  예측:  0\n",
            "59 번째  실제:  1  예측:  0\n",
            "60 번째  실제:  1  예측:  1\n",
            "61 번째  실제:  1  예측:  1\n",
            "62 번째  실제:  1  예측:  1\n",
            "63 번째  실제:  1  예측:  0\n",
            "64 번째  실제:  1  예측:  1\n",
            "65 번째  실제:  1  예측:  1\n",
            "66 번째  실제:  1  예측:  0\n",
            "67 번째  실제:  1  예측:  0\n",
            "68 번째  실제:  1  예측:  1\n",
            "69 번째  실제:  1  예측:  1\n",
            "70 번째  실제:  1  예측:  1\n",
            "71 번째  실제:  1  예측:  0\n",
            "72 번째  실제:  1  예측:  1\n",
            "73 번째  실제:  1  예측:  1\n",
            "74 번째  실제:  1  예측:  1\n",
            "75 번째  실제:  1  예측:  0\n",
            "76 번째  실제:  1  예측:  1\n",
            "77 번째  실제:  1  예측:  1\n",
            "78 번째  실제:  1  예측:  0\n",
            "79 번째  실제:  1  예측:  1\n",
            "80 번째  실제:  1  예측:  1\n",
            "81 번째  실제:  1  예측:  0\n",
            "82 번째  실제:  1  예측:  1\n",
            "83 번째  실제:  1  예측:  1\n",
            "84 번째  실제:  1  예측:  1\n",
            "85 번째  실제:  1  예측:  1\n",
            "86 번째  실제:  1  예측:  1\n",
            "87 번째  실제:  1  예측:  0\n",
            "88 번째  실제:  1  예측:  1\n",
            "89 번째  실제:  1  예측:  0\n",
            "90 번째  실제:  1  예측:  0\n",
            "91 번째  실제:  1  예측:  0\n",
            "92 번째  실제:  1  예측:  0\n",
            "93 번째  실제:  1  예측:  1\n",
            "94 번째  실제:  1  예측:  0\n",
            "95 번째  실제:  1  예측:  1\n",
            "96 번째  실제:  1  예측:  1\n",
            "97 번째  실제:  1  예측:  1\n",
            "98 번째  실제:  1  예측:  1\n",
            "99 번째  실제:  1  예측:  1\n",
            "100 번째  실제:  1  예측:  0\n",
            " \n",
            "예측 결과 100개 중  54 개가 일치합니다. 정확도:  54 %\n"
          ],
          "name": "stdout"
        }
      ]
    },
    {
      "cell_type": "markdown",
      "metadata": {
        "id": "xAzAh_uRfvjg"
      },
      "source": [
        "####    "
      ]
    },
    {
      "cell_type": "markdown",
      "metadata": {
        "id": "VmBhYrieZJUm"
      },
      "source": [
        "## 05 미세 조정\r\n",
        "\r\n",
        "*   모델을 재사용하는 데 널리 사용되고, 특성 추출을 보완하는 또 하나의 기법\r\n",
        "*   미세 조정은 특성 추출에 사용했던 동결 모델의 상위 층 몇 개를 동결에서 해제\r\n",
        "*   네트워크 미세 조정 단계\r\n",
        "   \r\n",
        "    01 사전에 훈련된 기반 네트워크 위에 새로운 네트워크를 추가합니다.\r\n",
        "\r\n",
        "    02 기반 네트워크를 동결합니다.\r\n",
        "\r\n",
        "    03 새로 추가한 네트워크를 훈련합니다.\r\n",
        "\r\n",
        "    04 기반 네트워크에서 일부 층의 동결을 해제합니다.\r\n",
        "\r\n",
        "    05 동결을 해제한 층과 새로 추가한 층을 함께 훈련합니다.\r\n",
        "\r\n",
        "    \r\n",
        "\r\n",
        "\r\n",
        "\r\n"
      ]
    },
    {
      "cell_type": "markdown",
      "metadata": {
        "id": "-sH6dUumaaXF"
      },
      "source": [
        "사전에 훈련된 VGG16 네트워크 보기"
      ]
    },
    {
      "cell_type": "code",
      "metadata": {
        "colab": {
          "base_uri": "https://localhost:8080/"
        },
        "id": "foeeN3dVYtbB",
        "outputId": "85521952-14cc-4799-d689-facb880c6f28"
      },
      "source": [
        "conv_base.summary()"
      ],
      "execution_count": 138,
      "outputs": [
        {
          "output_type": "stream",
          "text": [
            "Model: \"vgg16\"\n",
            "_________________________________________________________________\n",
            "Layer (type)                 Output Shape              Param #   \n",
            "=================================================================\n",
            "input_4 (InputLayer)         [(None, 150, 150, 3)]     0         \n",
            "_________________________________________________________________\n",
            "block1_conv1 (Conv2D)        (None, 150, 150, 64)      1792      \n",
            "_________________________________________________________________\n",
            "block1_conv2 (Conv2D)        (None, 150, 150, 64)      36928     \n",
            "_________________________________________________________________\n",
            "block1_pool (MaxPooling2D)   (None, 75, 75, 64)        0         \n",
            "_________________________________________________________________\n",
            "block2_conv1 (Conv2D)        (None, 75, 75, 128)       73856     \n",
            "_________________________________________________________________\n",
            "block2_conv2 (Conv2D)        (None, 75, 75, 128)       147584    \n",
            "_________________________________________________________________\n",
            "block2_pool (MaxPooling2D)   (None, 37, 37, 128)       0         \n",
            "_________________________________________________________________\n",
            "block3_conv1 (Conv2D)        (None, 37, 37, 256)       295168    \n",
            "_________________________________________________________________\n",
            "block3_conv2 (Conv2D)        (None, 37, 37, 256)       590080    \n",
            "_________________________________________________________________\n",
            "block3_conv3 (Conv2D)        (None, 37, 37, 256)       590080    \n",
            "_________________________________________________________________\n",
            "block3_pool (MaxPooling2D)   (None, 18, 18, 256)       0         \n",
            "_________________________________________________________________\n",
            "block4_conv1 (Conv2D)        (None, 18, 18, 512)       1180160   \n",
            "_________________________________________________________________\n",
            "block4_conv2 (Conv2D)        (None, 18, 18, 512)       2359808   \n",
            "_________________________________________________________________\n",
            "block4_conv3 (Conv2D)        (None, 18, 18, 512)       2359808   \n",
            "_________________________________________________________________\n",
            "block4_pool (MaxPooling2D)   (None, 9, 9, 512)         0         \n",
            "_________________________________________________________________\n",
            "block5_conv1 (Conv2D)        (None, 9, 9, 512)         2359808   \n",
            "_________________________________________________________________\n",
            "block5_conv2 (Conv2D)        (None, 9, 9, 512)         2359808   \n",
            "_________________________________________________________________\n",
            "block5_conv3 (Conv2D)        (None, 9, 9, 512)         2359808   \n",
            "_________________________________________________________________\n",
            "block5_pool (MaxPooling2D)   (None, 4, 4, 512)         0         \n",
            "=================================================================\n",
            "Total params: 14,714,688\n",
            "Trainable params: 0\n",
            "Non-trainable params: 14,714,688\n",
            "_________________________________________________________________\n"
          ],
          "name": "stdout"
        }
      ]
    },
    {
      "cell_type": "markdown",
      "metadata": {
        "id": "SQ2CiIw5ajO-"
      },
      "source": [
        "#### **마지막 세 개의 합성곱 층을 미세 조정하겠습니다.** \r\n",
        "#### **즉, block4_pool까지 모든 층은 동결되고 block5_conv1, block5_conv2, block5_conv3 층은 학습 대상**"
      ]
    },
    {
      "cell_type": "code",
      "metadata": {
        "id": "561yD6Y8afPn"
      },
      "source": [
        "conv_base.trainable = True\r\n",
        "\r\n",
        "set_trainable = False\r\n",
        "for layer in conv_base.layers:\r\n",
        "    if layer.name == 'block5_conv1':\r\n",
        "        set_trainable = True\r\n",
        "    if set_trainable:\r\n",
        "        layer.trainable = True\r\n",
        "    else:\r\n",
        "        layer.trainable = False"
      ],
      "execution_count": 151,
      "outputs": []
    },
    {
      "cell_type": "markdown",
      "metadata": {
        "id": "JglXXgv5a4oC"
      },
      "source": [
        "#### 모델 컴파일 및 학습"
      ]
    },
    {
      "cell_type": "code",
      "metadata": {
        "colab": {
          "base_uri": "https://localhost:8080/"
        },
        "id": "W6XQLpfTao3U",
        "outputId": "a3722aa8-94a9-4e3e-a6fc-dbd68444f1fd"
      },
      "source": [
        "%%time\r\n",
        "\r\n",
        "model.compile(loss='binary_crossentropy',\r\n",
        "              optimizer=optimizers.RMSprop(lr=1e-5),\r\n",
        "              metrics=['acc'])\r\n",
        "\r\n",
        "\r\n",
        "history = model.fit(\r\n",
        "      train_generator,\r\n",
        "      steps_per_epoch=15,  # total_train // batch_size (300//20)\r\n",
        "      epochs=30,  # 50\r\n",
        "      validation_data=validation_generator,\r\n",
        "      validation_steps=5,  # total_val // batch_size (100//20)\r\n",
        "      verbose=2)"
      ],
      "execution_count": 154,
      "outputs": [
        {
          "output_type": "stream",
          "text": [
            "Epoch 1/30\n",
            "15/15 - 60s - loss: 0.2577 - acc: 0.8867 - val_loss: 0.2134 - val_acc: 0.9300\n",
            "Epoch 2/30\n",
            "15/15 - 59s - loss: 0.2336 - acc: 0.9167 - val_loss: 0.2909 - val_acc: 0.8800\n",
            "Epoch 3/30\n",
            "15/15 - 59s - loss: 0.2009 - acc: 0.9300 - val_loss: 0.2887 - val_acc: 0.8600\n",
            "Epoch 4/30\n",
            "15/15 - 59s - loss: 0.1908 - acc: 0.9367 - val_loss: 0.1957 - val_acc: 0.9300\n",
            "Epoch 5/30\n",
            "15/15 - 59s - loss: 0.1750 - acc: 0.9200 - val_loss: 0.2015 - val_acc: 0.9300\n",
            "Epoch 6/30\n",
            "15/15 - 59s - loss: 0.1681 - acc: 0.9500 - val_loss: 0.1837 - val_acc: 0.9200\n",
            "Epoch 7/30\n",
            "15/15 - 59s - loss: 0.1848 - acc: 0.9233 - val_loss: 0.2192 - val_acc: 0.9100\n",
            "Epoch 8/30\n",
            "15/15 - 59s - loss: 0.1633 - acc: 0.9333 - val_loss: 0.1933 - val_acc: 0.9300\n",
            "Epoch 9/30\n",
            "15/15 - 59s - loss: 0.1426 - acc: 0.9500 - val_loss: 0.1785 - val_acc: 0.9200\n",
            "Epoch 10/30\n",
            "15/15 - 59s - loss: 0.1273 - acc: 0.9667 - val_loss: 0.2050 - val_acc: 0.9100\n",
            "Epoch 11/30\n",
            "15/15 - 59s - loss: 0.1294 - acc: 0.9700 - val_loss: 0.2194 - val_acc: 0.9100\n",
            "Epoch 12/30\n",
            "15/15 - 59s - loss: 0.0978 - acc: 0.9767 - val_loss: 0.1866 - val_acc: 0.9200\n",
            "Epoch 13/30\n",
            "15/15 - 59s - loss: 0.1043 - acc: 0.9700 - val_loss: 0.1940 - val_acc: 0.9200\n",
            "Epoch 14/30\n",
            "15/15 - 59s - loss: 0.0912 - acc: 0.9833 - val_loss: 0.2151 - val_acc: 0.8900\n",
            "Epoch 15/30\n",
            "15/15 - 59s - loss: 0.1059 - acc: 0.9633 - val_loss: 0.2518 - val_acc: 0.8800\n",
            "Epoch 16/30\n",
            "15/15 - 59s - loss: 0.0796 - acc: 0.9767 - val_loss: 0.1927 - val_acc: 0.9200\n",
            "Epoch 17/30\n",
            "15/15 - 59s - loss: 0.0781 - acc: 0.9767 - val_loss: 0.2455 - val_acc: 0.9000\n",
            "Epoch 18/30\n",
            "15/15 - 59s - loss: 0.0748 - acc: 0.9800 - val_loss: 0.1940 - val_acc: 0.9000\n",
            "Epoch 19/30\n",
            "15/15 - 59s - loss: 0.0596 - acc: 0.9900 - val_loss: 0.3026 - val_acc: 0.8700\n",
            "Epoch 20/30\n",
            "15/15 - 59s - loss: 0.0605 - acc: 0.9867 - val_loss: 0.2255 - val_acc: 0.9100\n",
            "Epoch 21/30\n",
            "15/15 - 59s - loss: 0.0583 - acc: 0.9800 - val_loss: 0.3534 - val_acc: 0.8700\n",
            "Epoch 22/30\n",
            "15/15 - 59s - loss: 0.0627 - acc: 0.9867 - val_loss: 0.2048 - val_acc: 0.9100\n",
            "Epoch 23/30\n",
            "15/15 - 59s - loss: 0.0454 - acc: 0.9833 - val_loss: 0.1957 - val_acc: 0.9100\n",
            "Epoch 24/30\n",
            "15/15 - 59s - loss: 0.0461 - acc: 0.9900 - val_loss: 0.1945 - val_acc: 0.9300\n",
            "Epoch 25/30\n",
            "15/15 - 59s - loss: 0.0530 - acc: 0.9933 - val_loss: 0.2324 - val_acc: 0.9100\n",
            "Epoch 26/30\n",
            "15/15 - 59s - loss: 0.0277 - acc: 0.9967 - val_loss: 0.3802 - val_acc: 0.8700\n",
            "Epoch 27/30\n",
            "15/15 - 59s - loss: 0.0398 - acc: 0.9933 - val_loss: 0.2071 - val_acc: 0.9200\n",
            "Epoch 28/30\n",
            "15/15 - 59s - loss: 0.0455 - acc: 0.9933 - val_loss: 0.2125 - val_acc: 0.9100\n",
            "Epoch 29/30\n",
            "15/15 - 59s - loss: 0.0545 - acc: 0.9767 - val_loss: 0.2125 - val_acc: 0.9200\n",
            "Epoch 30/30\n",
            "15/15 - 59s - loss: 0.0415 - acc: 0.9933 - val_loss: 0.2074 - val_acc: 0.9200\n",
            "CPU times: user 57min 2s, sys: 29.4 s, total: 57min 31s\n",
            "Wall time: 29min 32s\n"
          ],
          "name": "stdout"
        }
      ]
    },
    {
      "cell_type": "markdown",
      "metadata": {
        "id": "rcgC51G8rIM9"
      },
      "source": [
        "#### **모델저장**"
      ]
    },
    {
      "cell_type": "code",
      "metadata": {
        "id": "BZRCLtUurHZv"
      },
      "source": [
        "model.save('scalp_VGG16_FT_epc30.h5')\r\n",
        "\r\n",
        "# /content/scalp_VGG16_FT_epc30.h5"
      ],
      "execution_count": 166,
      "outputs": []
    },
    {
      "cell_type": "markdown",
      "metadata": {
        "id": "qdF4Oq4MbC1v"
      },
      "source": [
        "#### 정확도 손실도 그래프 그리기"
      ]
    },
    {
      "cell_type": "code",
      "metadata": {
        "colab": {
          "base_uri": "https://localhost:8080/",
          "height": 545
        },
        "id": "MUtYrpEHao-K",
        "outputId": "dc7c8754-042c-46cd-bd28-eebc7f51bbc7"
      },
      "source": [
        "acc = history.history['acc']\r\n",
        "val_acc = history.history['val_acc']\r\n",
        "loss = history.history['loss']\r\n",
        "val_loss = history.history['val_loss']\r\n",
        "\r\n",
        "epochs = range(len(acc))\r\n",
        "\r\n",
        "plt.plot(epochs, acc, 'bo', label='Training acc')\r\n",
        "plt.plot(epochs, val_acc, 'b', label='Validation acc')\r\n",
        "plt.title('Training and validation accuracy')\r\n",
        "plt.legend()\r\n",
        "\r\n",
        "plt.figure()\r\n",
        "\r\n",
        "plt.plot(epochs, loss, 'bo', label='Training loss')\r\n",
        "plt.plot(epochs, val_loss, 'b', label='Validation loss')\r\n",
        "plt.title('Training and validation loss')\r\n",
        "plt.legend()\r\n",
        "\r\n",
        "plt.show()"
      ],
      "execution_count": 155,
      "outputs": [
        {
          "output_type": "display_data",
          "data": {
            "image/png": "[encoded data removed]",
            "text/plain": [
              "<Figure size 432x288 with 1 Axes>"
            ]
          },
          "metadata": {
            "tags": [],
            "needs_background": "light"
          }
        },
        {
          "output_type": "display_data",
          "data": {
            "image/png": "[encoded data removed]",
            "text/plain": [
              "<Figure size 432x288 with 1 Axes>"
            ]
          },
          "metadata": {
            "tags": [],
            "needs_background": "light"
          }
        }
      ]
    },
    {
      "cell_type": "markdown",
      "metadata": {
        "id": "H_FgM9qgbJYS"
      },
      "source": [
        "#### 평가"
      ]
    },
    {
      "cell_type": "code",
      "metadata": {
        "colab": {
          "base_uri": "https://localhost:8080/"
        },
        "id": "82FkijlHbCJ5",
        "outputId": "3ad71e19-c9f5-4d06-ce8e-cb615c680cdc"
      },
      "source": [
        "test_generator = test_datagen.flow_from_directory(\r\n",
        "        test_dir,\r\n",
        "        target_size=(150, 150),\r\n",
        "        batch_size=20,\r\n",
        "        class_mode='binary')\r\n",
        "\r\n",
        "test_loss, test_acc = model.evaluate(test_generator, steps=50)\r\n",
        "print('test acc:', test_acc)"
      ],
      "execution_count": 157,
      "outputs": [
        {
          "output_type": "stream",
          "text": [
            "Found 100 images belonging to 2 classes.\n",
            " 5/50 [==>...........................] - ETA: 1:48 - loss: 0.3436 - acc: 0.8500WARNING:tensorflow:Your input ran out of data; interrupting training. Make sure that your dataset or generator can generate at least `steps_per_epoch * epochs` batches (in this case, 50 batches). You may need to use the repeat() function when building your dataset.\n",
            "50/50 [==============================] - 12s 198ms/step - loss: 0.3436 - acc: 0.8500\n",
            "test acc: 0.8500000238418579\n"
          ],
          "name": "stdout"
        }
      ]
    },
    {
      "cell_type": "markdown",
      "metadata": {
        "id": "kLnO79cFqaGz"
      },
      "source": [
        "미세조정 하기 전보다 4약 4% 정도 증가"
      ]
    },
    {
      "cell_type": "markdown",
      "metadata": {
        "id": "vKasB9uVbRy-"
      },
      "source": [
        "#### 예측"
      ]
    },
    {
      "cell_type": "code",
      "metadata": {
        "colab": {
          "base_uri": "https://localhost:8080/"
        },
        "id": "p5Xzlv_MbMgZ",
        "outputId": "78eb7e73-28a5-466b-abda-28cf423550b7"
      },
      "source": [
        "output = model.predict(test_generator)\r\n",
        "print('갯수: ', len(output))\r\n",
        "output[0:10]"
      ],
      "execution_count": 158,
      "outputs": [
        {
          "output_type": "stream",
          "text": [
            "갯수:  100\n"
          ],
          "name": "stdout"
        },
        {
          "output_type": "execute_result",
          "data": {
            "text/plain": [
              "array([[0.00945675],\n",
              "       [0.9944307 ],\n",
              "       [0.0105662 ],\n",
              "       [0.12250867],\n",
              "       [0.49325895],\n",
              "       [0.78627086],\n",
              "       [0.97941244],\n",
              "       [0.9700979 ],\n",
              "       [0.2757907 ],\n",
              "       [0.06386337]], dtype=float32)"
            ]
          },
          "metadata": {
            "tags": []
          },
          "execution_count": 158
        }
      ]
    },
    {
      "cell_type": "code",
      "metadata": {
        "colab": {
          "base_uri": "https://localhost:8080/"
        },
        "id": "V6ebUA25bMuB",
        "outputId": "a9c2e8c7-c264-4725-ae74-d521c8c3bb8b"
      },
      "source": [
        "test_generator.class_indices"
      ],
      "execution_count": 159,
      "outputs": [
        {
          "output_type": "execute_result",
          "data": {
            "text/plain": [
              "{'scalp_abnormal': 0, 'scalp_normal': 1}"
            ]
          },
          "metadata": {
            "tags": []
          },
          "execution_count": 159
        }
      ]
    },
    {
      "cell_type": "code",
      "metadata": {
        "colab": {
          "base_uri": "https://localhost:8080/"
        },
        "id": "heQ1-RsKbCNd",
        "outputId": "331dc550-052b-470b-a6d1-1c27f55a6227"
      },
      "source": [
        "test_generator.labels"
      ],
      "execution_count": 160,
      "outputs": [
        {
          "output_type": "execute_result",
          "data": {
            "text/plain": [
              "array([0, 0, 0, 0, 0, 0, 0, 0, 0, 0, 0, 0, 0, 0, 0, 0, 0, 0, 0, 0, 0, 0,\n",
              "       0, 0, 0, 0, 0, 0, 0, 0, 0, 0, 0, 0, 0, 0, 0, 0, 0, 0, 0, 0, 0, 0,\n",
              "       0, 0, 0, 0, 0, 0, 1, 1, 1, 1, 1, 1, 1, 1, 1, 1, 1, 1, 1, 1, 1, 1,\n",
              "       1, 1, 1, 1, 1, 1, 1, 1, 1, 1, 1, 1, 1, 1, 1, 1, 1, 1, 1, 1, 1, 1,\n",
              "       1, 1, 1, 1, 1, 1, 1, 1, 1, 1, 1, 1], dtype=int32)"
            ]
          },
          "metadata": {
            "tags": []
          },
          "execution_count": 160
        }
      ]
    },
    {
      "cell_type": "code",
      "metadata": {
        "colab": {
          "base_uri": "https://localhost:8080/"
        },
        "id": "pZAOtnE8qpxc",
        "outputId": "55d60984-cc57-4c13-aae2-5714599a6511"
      },
      "source": [
        "rls = []\r\n",
        "\r\n",
        "for pic in output:\r\n",
        "    if pic[0] <= 0.5:\r\n",
        "        result = 0\r\n",
        "    else:\r\n",
        "        result = 1\r\n",
        "        \r\n",
        "    rls.append(result)\r\n",
        "        \r\n",
        "print(len(rls))\r\n",
        "rls[45:55]"
      ],
      "execution_count": 164,
      "outputs": [
        {
          "output_type": "stream",
          "text": [
            "100\n"
          ],
          "name": "stdout"
        },
        {
          "output_type": "execute_result",
          "data": {
            "text/plain": [
              "[0, 0, 1, 1, 1, 0, 0, 1, 0, 0]"
            ]
          },
          "metadata": {
            "tags": []
          },
          "execution_count": 164
        }
      ]
    },
    {
      "cell_type": "code",
      "metadata": {
        "colab": {
          "base_uri": "https://localhost:8080/"
        },
        "id": "hT1eWrBPqtEz",
        "outputId": "0b869979-baf5-4a69-dd48-c514c67869ce"
      },
      "source": [
        "acc = 0\r\n",
        "\r\n",
        "for i in range(100):\r\n",
        "  # print(i+1,'번째  실제: ', test_generator.labels[i],' 예측: ', rls[i])\r\n",
        "  if test_generator.labels[i] == rls[i]:\r\n",
        "    acc += 1\r\n",
        "\r\n",
        "print(\" \")\r\n",
        "print('예측 결과 100개 중 ', acc, '개가 일치합니다. 정확도: ', acc,'%')"
      ],
      "execution_count": 165,
      "outputs": [
        {
          "output_type": "stream",
          "text": [
            " \n",
            "예측 결과 100개 중  49 개가 일치합니다. 정확도:  49 %\n"
          ],
          "name": "stdout"
        }
      ]
    },
    {
      "cell_type": "markdown",
      "metadata": {
        "id": "53uhs0-Lq-K1"
      },
      "source": [
        "예측 정확도는 조금 낮아짐"
      ]
    },
    {
      "cell_type": "code",
      "metadata": {
        "id": "k_XLZtPRqtL-"
      },
      "source": [
        ""
      ],
      "execution_count": null,
      "outputs": []
    }
  ]
}